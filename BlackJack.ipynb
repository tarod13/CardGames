{
  "nbformat": 4,
  "nbformat_minor": 0,
  "metadata": {
    "colab": {
      "name": "BlackJack.ipynb",
      "provenance": [],
      "collapsed_sections": [],
      "authorship_tag": "ABX9TyPI33dlD/F+m9IIRC+xRVm4",
      "include_colab_link": true
    },
    "kernelspec": {
      "name": "python3",
      "display_name": "Python 3"
    }
  },
  "cells": [
    {
      "cell_type": "markdown",
      "metadata": {
        "id": "view-in-github",
        "colab_type": "text"
      },
      "source": [
        "<a href=\"https://colab.research.google.com/github/tarod13/CardGames/blob/main/BlackJack.ipynb\" target=\"_parent\"><img src=\"https://colab.research.google.com/assets/colab-badge.svg\" alt=\"Open In Colab\"/></a>"
      ]
    },
    {
      "cell_type": "code",
      "metadata": {
        "id": "qg_dBN3htlt5"
      },
      "source": [
        "import numpy as np\n",
        "import random"
      ],
      "execution_count": 47,
      "outputs": []
    },
    {
      "cell_type": "code",
      "metadata": {
        "id": "s_Rd3TPN13W-"
      },
      "source": [
        "def number2card(number):\n",
        "  invalid_flag = False\n",
        "  \n",
        "  rank = (number % 13) + 1\n",
        "  if rank < 1 or rank > 13:\n",
        "    invalid_flag = True\n",
        "  elif rank == 1:\n",
        "    rank = 'A'\n",
        "  elif rank == 11:\n",
        "    rank = 'J'\n",
        "  elif rank == 12:\n",
        "    rank = 'Q'\n",
        "  elif rank == 13:\n",
        "    rank = 'K'\n",
        "  else:\n",
        "    rank = str(int(rank))\n",
        "  \n",
        "  symbol = number // 13\n",
        "  if symbol == 0:\n",
        "    symbol = 'clubs'\n",
        "  elif symbol == 1:\n",
        "    symbol = 'diamonds'\n",
        "  elif symbol == 2:\n",
        "    symbol = 'hearts'\n",
        "  elif symbol == 3:\n",
        "    symbol = 'spades'\n",
        "  else:\n",
        "    invalid_flag = True\n",
        "\n",
        "  assert not invalid_flag, 'Invalid number'\n",
        "\n",
        "  return (rank, symbol)\n",
        "\n",
        "\n",
        "def card2value(card):\n",
        "  rank = card[0]\n",
        "  \n",
        "  if rank == 'A':\n",
        "    value = 1    \n",
        "  elif rank in ['J', 'Q', 'K']:\n",
        "    value = 10\n",
        "  elif int(rank) > 1 and int(rank) <= 10:\n",
        "    value = int(rank)\n",
        "  else:\n",
        "    print(rank)\n",
        "    raise NameError('Invalid card')\n",
        "  \n",
        "  return value"
      ],
      "execution_count": 92,
      "outputs": []
    },
    {
      "cell_type": "code",
      "metadata": {
        "id": "SBKV1Apns6KU"
      },
      "source": [
        "class BlackJackEnv():\n",
        "  def __init__(self, seed=0):    \n",
        "    self.seed(seed)\n",
        "    \n",
        "  def step(self, action):\n",
        "    state = [list(self.player_hand).copy(), self.visible_dealer_card]\n",
        "\n",
        "    if action == 0 or action == '0' or action == 'stand':\n",
        "      sum_dealer, n_aces_dealer = self.calculate_sum(who='dealer')\n",
        "      less_than_17 = (sum_dealer + int(n_aces_dealer>0) * 10) < 17\n",
        "      more_than_21 = False\n",
        "      while less_than_17 and not more_than_21:\n",
        "        new_dealer_card = set(random.sample(self.deck, 1))        \n",
        "        self.deck = self.deck - new_dealer_card\n",
        "        self.dealer_hand = self.dealer_hand.union(new_dealer_card)\n",
        "\n",
        "        new_dealer_card = new_dealer_card.pop()\n",
        "        sum_dealer += card2value(new_dealer_card)\n",
        "        rank = new_dealer_card[0]\n",
        "        if rank == 'A':\n",
        "          n_aces_dealer += 1\n",
        "        less_than_17 = (sum_dealer + int(n_aces_dealer>0) * 10) < 17   \n",
        "        more_than_21 = sum_dealer > 21\n",
        "      done = True\n",
        "      score_dealer = self.calculate_score(sum_dealer, n_aces_dealer)\n",
        "      if score_dealer > 21:\n",
        "        reward = 1.0\n",
        "      else:\n",
        "        sum_player, n_aces_player = self.calculate_sum()\n",
        "        score_player = self.calculate_score(sum_player, n_aces_player)\n",
        "        if score_player > score_dealer:\n",
        "          reward = 1.0\n",
        "        elif score_player == score_dealer:\n",
        "          reward = 0.0\n",
        "        else:\n",
        "          reward = -1.0\n",
        "\n",
        "    elif action == 1 or action == '1' or action == 'hit':\n",
        "      new_player_card = set(random.sample(self.deck, 1))\n",
        "      self.deck = self.deck - new_player_card\n",
        "      self.player_hand = self.player_hand.union(new_player_card)\n",
        "      sum_player, n_aces_player = self.calculate_sum()\n",
        "      went_bust = sum_player > 21      \n",
        "      if went_bust:\n",
        "        reward = -1\n",
        "        done = True        \n",
        "      else:\n",
        "        reward = 0\n",
        "        done = False        \n",
        "\n",
        "    else:\n",
        "      raise NameError('Invalid action')\n",
        "    \n",
        "    if done:    \n",
        "      next_state = [list(self.player_hand).copy(), list(self.dealer_hand).copy()]\n",
        "    else:\n",
        "      next_state = [list(self.player_hand).copy(), self.visible_dealer_card]\n",
        "    return state, next_state, reward, done \n",
        "\n",
        "  def seed(self, seed=None):\n",
        "    random.seed(seed)\n",
        "\n",
        "  \n",
        "  def reset(self):\n",
        "    self.deck = set(range(0,52))\n",
        "    self.deck = set([number2card(x) for x in self.deck])\n",
        "\n",
        "    self.player_hand = set(random.sample(self.deck, 2))\n",
        "    self.deck = self.deck - self.player_hand\n",
        "    self.dealer_hand = set(random.sample(self.deck, 2))\n",
        "    self.deck = self.deck - self.dealer_hand\n",
        "\n",
        "    self.visible_dealer_card = list(self.dealer_hand)[0]\n",
        "    state = [list(self.player_hand).copy(), self.visible_dealer_card]\n",
        "    return state\n",
        "\n",
        "\n",
        "  @staticmethod\n",
        "  def calculate_score(sum_no_aces, n_aces):\n",
        "    score = sum_no_aces\n",
        "    soft_hand = (21 - sum_no_aces) >= 10\n",
        "    at_least_one_ace = n_aces > 0\n",
        "    if soft_hand and at_least_one_ace:\n",
        "      score += 10\n",
        "    return score\n",
        "\n",
        "  \n",
        "  def calculate_sum(self, who='player'):\n",
        "    n_aces = 0\n",
        "    sum_ = 0\n",
        "    \n",
        "    if who == 'player':\n",
        "      hand = self.player_hand\n",
        "    else:\n",
        "      hand = self.dealer_hand\n",
        "    \n",
        "    for card in hand:  \n",
        "      rank = card[0]\n",
        "      if rank == 'A':\n",
        "        n_aces += 1          \n",
        "      sum_ += card2value(card)\n",
        "    \n",
        "    return sum_, n_aces"
      ],
      "execution_count": 124,
      "outputs": []
    },
    {
      "cell_type": "code",
      "metadata": {
        "id": "ntizeIVw0u-W"
      },
      "source": [
        "seed = 0\n",
        "juego = BlackJackEnv(seed=seed)\n",
        "mano_inicial = juego.reset()"
      ],
      "execution_count": 125,
      "outputs": []
    },
    {
      "cell_type": "code",
      "metadata": {
        "colab": {
          "base_uri": "https://localhost:8080/"
        },
        "id": "h3UUd2GU10Je",
        "outputId": "ccdfcae8-b601-4a15-b9bb-95b93a220b22"
      },
      "source": [
        "mano_inicial"
      ],
      "execution_count": 126,
      "outputs": [
        {
          "output_type": "execute_result",
          "data": {
            "text/plain": [
              "[[('A', 'spades'), ('5', 'hearts')], ('4', 'hearts')]"
            ]
          },
          "metadata": {
            "tags": []
          },
          "execution_count": 126
        }
      ]
    },
    {
      "cell_type": "code",
      "metadata": {
        "id": "OsAMmLa1ORVD"
      },
      "source": [
        "m, nm, r, d = juego.step('hit')"
      ],
      "execution_count": 127,
      "outputs": []
    },
    {
      "cell_type": "code",
      "metadata": {
        "colab": {
          "base_uri": "https://localhost:8080/"
        },
        "id": "QLunpbGyRUG1",
        "outputId": "e3ae6eae-7564-43f0-d44e-36af7fa6ab30"
      },
      "source": [
        "m"
      ],
      "execution_count": 128,
      "outputs": [
        {
          "output_type": "execute_result",
          "data": {
            "text/plain": [
              "[[('A', 'spades'), ('5', 'hearts')], ('4', 'hearts')]"
            ]
          },
          "metadata": {
            "tags": []
          },
          "execution_count": 128
        }
      ]
    },
    {
      "cell_type": "code",
      "metadata": {
        "colab": {
          "base_uri": "https://localhost:8080/"
        },
        "id": "OM64HDP6RVWT",
        "outputId": "597824b3-d874-4883-bf43-4069cd11d85e"
      },
      "source": [
        "nm"
      ],
      "execution_count": 129,
      "outputs": [
        {
          "output_type": "execute_result",
          "data": {
            "text/plain": [
              "[[('A', 'spades'), ('5', 'hearts'), ('5', 'diamonds')], ('4', 'hearts')]"
            ]
          },
          "metadata": {
            "tags": []
          },
          "execution_count": 129
        }
      ]
    },
    {
      "cell_type": "code",
      "metadata": {
        "colab": {
          "base_uri": "https://localhost:8080/"
        },
        "id": "fsBK2JB0RZA0",
        "outputId": "4f0decbf-cf5d-4dee-a978-0cb25570a8de"
      },
      "source": [
        "r"
      ],
      "execution_count": 130,
      "outputs": [
        {
          "output_type": "execute_result",
          "data": {
            "text/plain": [
              "0"
            ]
          },
          "metadata": {
            "tags": []
          },
          "execution_count": 130
        }
      ]
    },
    {
      "cell_type": "code",
      "metadata": {
        "colab": {
          "base_uri": "https://localhost:8080/"
        },
        "id": "amJqJIFORbtz",
        "outputId": "539d6533-92fa-4aef-b71f-22d189eeb1df"
      },
      "source": [
        "d"
      ],
      "execution_count": 131,
      "outputs": [
        {
          "output_type": "execute_result",
          "data": {
            "text/plain": [
              "False"
            ]
          },
          "metadata": {
            "tags": []
          },
          "execution_count": 131
        }
      ]
    },
    {
      "cell_type": "code",
      "metadata": {
        "id": "slh7SMQ7Rsat"
      },
      "source": [
        "m, nm, r, d = juego.step('stand')"
      ],
      "execution_count": 132,
      "outputs": []
    },
    {
      "cell_type": "code",
      "metadata": {
        "colab": {
          "base_uri": "https://localhost:8080/"
        },
        "id": "MHfEzsd8Tc4h",
        "outputId": "a13cdfd5-e530-4d45-cdba-ab12aaf9822f"
      },
      "source": [
        "m"
      ],
      "execution_count": 133,
      "outputs": [
        {
          "output_type": "execute_result",
          "data": {
            "text/plain": [
              "[[('A', 'spades'), ('5', 'hearts'), ('5', 'diamonds')], ('4', 'hearts')]"
            ]
          },
          "metadata": {
            "tags": []
          },
          "execution_count": 133
        }
      ]
    },
    {
      "cell_type": "code",
      "metadata": {
        "colab": {
          "base_uri": "https://localhost:8080/"
        },
        "id": "2yZUHRJLTiwg",
        "outputId": "66d16536-51bd-47e9-ace0-1e9f93adb033"
      },
      "source": [
        "nm"
      ],
      "execution_count": 134,
      "outputs": [
        {
          "output_type": "execute_result",
          "data": {
            "text/plain": [
              "[[('A', 'spades'), ('5', 'hearts'), ('5', 'diamonds')],\n",
              " [('4', 'hearts'), ('7', 'hearts'), ('5', 'spades'), ('10', 'diamonds')]]"
            ]
          },
          "metadata": {
            "tags": []
          },
          "execution_count": 134
        }
      ]
    },
    {
      "cell_type": "code",
      "metadata": {
        "colab": {
          "base_uri": "https://localhost:8080/"
        },
        "id": "w2p4aG_iToHk",
        "outputId": "c1317dc9-5258-4f29-e36b-8b713258b18e"
      },
      "source": [
        "r"
      ],
      "execution_count": 135,
      "outputs": [
        {
          "output_type": "execute_result",
          "data": {
            "text/plain": [
              "1.0"
            ]
          },
          "metadata": {
            "tags": []
          },
          "execution_count": 135
        }
      ]
    },
    {
      "cell_type": "code",
      "metadata": {
        "colab": {
          "base_uri": "https://localhost:8080/"
        },
        "id": "88LB1Ls_Tpzc",
        "outputId": "4d0554c9-4147-4a15-cefb-5301c6faa115"
      },
      "source": [
        "d"
      ],
      "execution_count": 136,
      "outputs": [
        {
          "output_type": "execute_result",
          "data": {
            "text/plain": [
              "True"
            ]
          },
          "metadata": {
            "tags": []
          },
          "execution_count": 136
        }
      ]
    },
    {
      "cell_type": "code",
      "metadata": {
        "id": "7_D6dKPGVPKC"
      },
      "source": [
        "N_episodes = 10000\n",
        "N_actions = 2\n",
        "epsilon = 0.1\n",
        "beta = 1.0\n",
        "np.random.seed(seed)"
      ],
      "execution_count": 138,
      "outputs": []
    },
    {
      "cell_type": "code",
      "metadata": {
        "id": "yyX3PfvNb3vI"
      },
      "source": [
        "  def state2code(state):\n",
        "    n_aces = 0\n",
        "    sum_ = 0\n",
        "    \n",
        "    player_hand, dealer_card = state\n",
        "    \n",
        "    for card in player_hand:  \n",
        "      rank = card[0]\n",
        "      if rank == 'A':\n",
        "        n_aces += 1          \n",
        "      sum_ += card2value(card)\n",
        "    \n",
        "    visible_score_dealer = card2value(dealer_card)\n",
        "    aces = n_aces > 0\n",
        "    return (sum_, visible_score_dealer, aces)\n",
        "\n",
        "\n",
        "def sample_epsilon_policy(hand_sum, dealer_score, aces, q_function):\n",
        "  q_values = q_function[int(hand_sum-12), int(dealer_score-1), int(aces),:]\n",
        "  if np.random.rand() > epsilon:\n",
        "    action = q_values.a"
      ],
      "execution_count": 119,
      "outputs": []
    },
    {
      "cell_type": "code",
      "metadata": {
        "id": "HxrzLvzCaSa3"
      },
      "source": [
        "q_function = np.zeros(10,10,2,2)\n",
        "\n",
        "for episode in range(0, N_episodes):\n",
        "  done = False\n",
        "  episode_reward = 0\n",
        "  state = juego.reset()\n",
        "\n",
        "  while not done:\n",
        "    hand_sum, dealer_score, aces = state2code(state)\n",
        "    if hand_sum < 12:\n",
        "      action = 'hit'\n",
        "    else:\n",
        "      action = sample_epsilon_policy() "
      ],
      "execution_count": null,
      "outputs": []
    }
  ]
}