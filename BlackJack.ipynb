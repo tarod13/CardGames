{
  "nbformat": 4,
  "nbformat_minor": 0,
  "metadata": {
    "colab": {
      "name": "BlackJack.ipynb",
      "provenance": [],
      "authorship_tag": "ABX9TyOcAaxxsAF9DRTMis5Rw/N9",
      "include_colab_link": true
    },
    "kernelspec": {
      "name": "python3",
      "display_name": "Python 3"
    }
  },
  "cells": [
    {
      "cell_type": "markdown",
      "metadata": {
        "id": "view-in-github",
        "colab_type": "text"
      },
      "source": [
        "<a href=\"https://colab.research.google.com/github/tarod13/CardGames/blob/main/BlackJack.ipynb\" target=\"_parent\"><img src=\"https://colab.research.google.com/assets/colab-badge.svg\" alt=\"Open In Colab\"/></a>"
      ]
    },
    {
      "cell_type": "code",
      "metadata": {
        "id": "qg_dBN3htlt5"
      },
      "source": [
        "import numpy as np\n",
        "import random"
      ],
      "execution_count": 14,
      "outputs": []
    },
    {
      "cell_type": "code",
      "metadata": {
        "id": "s_Rd3TPN13W-"
      },
      "source": [
        "def number2card(number):\n",
        "  invalid_flag = False\n",
        "  \n",
        "  rank = (number % 13) + 1\n",
        "  if rank < 1 or rank > 13:\n",
        "    invalid_flag = True\n",
        "  elif rank == 1:\n",
        "    rank = 'A'\n",
        "  elif rank == 11:\n",
        "    rank = 'J'\n",
        "  elif rank == 12:\n",
        "    rank = 'Q'\n",
        "  elif rank == 13:\n",
        "    rank = 'K'\n",
        "  else:\n",
        "    rank = str(int(rank))\n",
        "  \n",
        "  symbol = number // 13\n",
        "  if symbol == 0:\n",
        "    symbol = 'clubs'\n",
        "  elif symbol == 1:\n",
        "    symbol = 'diamonds'\n",
        "  elif symbol == 2:\n",
        "    symbol = 'hearts'\n",
        "  elif symbol == 3:\n",
        "    symbol = 'spades'\n",
        "  else:\n",
        "    invalid_flag = True\n",
        "\n",
        "  assert not invalid_flag, 'Invalid number'\n",
        "\n",
        "  return (rank, symbol)\n",
        "\n",
        "\n",
        "def card2value(card):\n",
        "  rank = card[0]\n",
        "  \n",
        "  if rank == 'A':\n",
        "    value = 1    \n",
        "  elif rank in ['J', 'Q', 'K']:\n",
        "    value = 10\n",
        "  elif int(rank) > 1 and int(rank) <= 10:\n",
        "    value = int(rank)\n",
        "  else:\n",
        "    raise NameError('Invalid card')\n",
        "  \n",
        "  return value"
      ],
      "execution_count": 46,
      "outputs": []
    },
    {
      "cell_type": "code",
      "metadata": {
        "colab": {
          "base_uri": "https://localhost:8080/",
          "height": 135
        },
        "id": "SBKV1Apns6KU",
        "outputId": "d2a9752b-fc5b-4375-f413-3b6696ae440d"
      },
      "source": [
        "class BlackJackEnv():\n",
        "  def __init__(self, seed=0):    \n",
        "    self.seed(seed)\n",
        "    \n",
        "  def step(self, action):\n",
        "    state = [list(self.player_hand).copy(), list(self.dealer_hand).copy()]\n",
        "\n",
        "    if action == 0 or action == '0' or action == 'stand':\n",
        "      sum_dealer, n_aces_dealer = self.calculate_sum(who='dealer')\n",
        "      less_than_17 = (sum_dealer + int(n_aces_dealer>0) * 10) < 17\n",
        "      more_than_21 = False\n",
        "      while less_than_17 and not more_than_21:\n",
        "        new_dealer_card = random.sample(self.deck, 1)        \n",
        "        self.deck.remove(new_dealer_card)\n",
        "        self.dealer_hand.add(new_dealer_card)\n",
        "\n",
        "        rank = new_dealer_card[0]\n",
        "        sum_dealer += card2value(card)\n",
        "        if rank == 'A':\n",
        "          n_aces_dealer += 1\n",
        "        less_than_17 = (sum_dealer + int(n_aces_dealer>0) * 10) < 17   \n",
        "        more_than_21 = sum_dealer > 21\n",
        "      done = True\n",
        "      score_dealer = self.calculate_score(sum_dealer, n_aces_dealer)\n",
        "      if score_dealer > 21:\n",
        "        reward = 1.0\n",
        "      else:\n",
        "        sum_player, n_aces_player = self.calculate_sum()\n",
        "        score_player = self.calculate_score(sum_player, n_aces_player)\n",
        "        if score_player > score_dealer:\n",
        "          reward = 1.0\n",
        "        elif score_player == score_dealer:\n",
        "          reward = 0.0\n",
        "        else:\n",
        "          reward = -1.0\n",
        "\n",
        "    elif action == 1 or action == '1' or action == 'hit':\n",
        "      new_player_card = random.sample(self.deck, 1)\n",
        "      self.deck.remove(new_player_card)\n",
        "      self.player_hand.add(new_player_card)\n",
        "      sum_player, n_aces_player = self.calculate_sum()\n",
        "      went_bust = sum_dealer > 21      \n",
        "      if went_bust:\n",
        "        reward = -1\n",
        "        done = True\n",
        "        self.reset()\n",
        "      else:\n",
        "        reward = 0\n",
        "        done = False        \n",
        "\n",
        "    else:\n",
        "      raise NameError('Invalid action')\n",
        "    \n",
        "    next_state = [list(self.player_hand).copy(), list(self.dealer_hand).copy()]\n",
        "    return state, next_state, reward, done \n",
        "\n",
        "  def seed(self, seed=None):\n",
        "    random.seed(seed)\n",
        "\n",
        "  \n",
        "  def reset(self):\n",
        "    self.deck = set(range(0,52))\n",
        "    self.deck = set([number2card(x) for x in self.deck])\n",
        "\n",
        "    self.player_hand = set(random.sample(self.deck, 2))\n",
        "    self.deck = self.deck - self.player_hand\n",
        "    self.dealer_hand = set(random.sample(self.deck, 2))\n",
        "    self.deck = self.deck - self.dealer_hand\n",
        "\n",
        "    state = [list(self.player_hand).copy(), list(self.dealer_hand).copy()]\n",
        "    return state\n",
        "\n",
        "\n",
        "  @staticmethod\n",
        "  def calculate_score(sum_no_aces, n_aces):\n",
        "    score = sum_no_aces\n",
        "    soft_hand = (21 - sum_no_aces) >= 10\n",
        "    at_least_one_ace = n_aces > 0\n",
        "    if soft_hand and at_least_one_ace:\n",
        "      score += 10\n",
        "    return score\n",
        "\n",
        "  \n",
        "  def calculate_sum(self, who='player'):\n",
        "    n_aces = 0\n",
        "    sum_ = 0\n",
        "    \n",
        "    if who == 'player':\n",
        "      hand = self.player_hand\n",
        "    else:\n",
        "      hand = self.dealer_hand\n",
        "    \n",
        "    for card in hand:  \n",
        "      rank = card[0]\n",
        "      if rank == 'A':\n",
        "        n_aces += 1          \n",
        "      sum_ += card2value(card)\n",
        "    \n",
        "    return sum_, n_aces"
      ],
      "execution_count": 42,
      "outputs": [
        {
          "output_type": "error",
          "ename": "IndentationError",
          "evalue": "ignored",
          "traceback": [
            "\u001b[0;36m  File \u001b[0;32m\"<ipython-input-42-7204ee126434>\"\u001b[0;36m, line \u001b[0;32m9\u001b[0m\n\u001b[0;31m    def seed(self, seed=None):\u001b[0m\n\u001b[0m    ^\u001b[0m\n\u001b[0;31mIndentationError\u001b[0m\u001b[0;31m:\u001b[0m expected an indented block\n"
          ]
        }
      ]
    },
    {
      "cell_type": "code",
      "metadata": {
        "id": "ntizeIVw0u-W"
      },
      "source": [
        "juego = BlackJackEnv()"
      ],
      "execution_count": 35,
      "outputs": []
    },
    {
      "cell_type": "code",
      "metadata": {
        "id": "zAd3zvIK1mnG"
      },
      "source": [
        "mano_inicial = juego.reset()"
      ],
      "execution_count": 40,
      "outputs": []
    },
    {
      "cell_type": "code",
      "metadata": {
        "colab": {
          "base_uri": "https://localhost:8080/"
        },
        "id": "h3UUd2GU10Je",
        "outputId": "156321c1-0cde-4a7e-d169-66954977d457"
      },
      "source": [
        "mano_inicial"
      ],
      "execution_count": 41,
      "outputs": [
        {
          "output_type": "execute_result",
          "data": {
            "text/plain": [
              "[('Q', 'spades'), ('7', 'diamonds')]"
            ]
          },
          "metadata": {
            "tags": []
          },
          "execution_count": 41
        }
      ]
    }
  ]
}