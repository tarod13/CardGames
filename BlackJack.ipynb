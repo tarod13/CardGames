{
  "nbformat": 4,
  "nbformat_minor": 0,
  "metadata": {
    "colab": {
      "name": "BlackJack.ipynb",
      "provenance": [],
      "collapsed_sections": [],
      "authorship_tag": "ABX9TyMtxDuQB9zVcZai/JTOieb5",
      "include_colab_link": true
    },
    "kernelspec": {
      "name": "python3",
      "display_name": "Python 3"
    }
  },
  "cells": [
    {
      "cell_type": "markdown",
      "metadata": {
        "id": "view-in-github",
        "colab_type": "text"
      },
      "source": [
        "<a href=\"https://colab.research.google.com/github/tarod13/CardGames/blob/main/BlackJack.ipynb\" target=\"_parent\"><img src=\"https://colab.research.google.com/assets/colab-badge.svg\" alt=\"Open In Colab\"/></a>"
      ]
    },
    {
      "cell_type": "code",
      "metadata": {
        "id": "qg_dBN3htlt5"
      },
      "source": [
        "import numpy as np\n",
        "import random\n",
        "\n",
        "import matplotlib.pyplot as plt\n",
        "import pandas as pd\n",
        "import seaborn as sns\n",
        "\n",
        "semilla = 0\n",
        "np.random.seed(semilla)"
      ],
      "execution_count": 82,
      "outputs": []
    },
    {
      "cell_type": "code",
      "metadata": {
        "id": "s_Rd3TPN13W-"
      },
      "source": [
        "def number2card(number):\n",
        "  invalid_flag = False\n",
        "  \n",
        "  rank = (number % 13) + 1\n",
        "  if rank < 1 or rank > 13:\n",
        "    invalid_flag = True\n",
        "  elif rank == 1:\n",
        "    rank = 'A'\n",
        "  elif rank == 11:\n",
        "    rank = 'J'\n",
        "  elif rank == 12:\n",
        "    rank = 'Q'\n",
        "  elif rank == 13:\n",
        "    rank = 'K'\n",
        "  else:\n",
        "    rank = str(int(rank))\n",
        "  \n",
        "  symbol = number // 13\n",
        "  if symbol == 0:\n",
        "    symbol = 'clubs'\n",
        "  elif symbol == 1:\n",
        "    symbol = 'diamonds'\n",
        "  elif symbol == 2:\n",
        "    symbol = 'hearts'\n",
        "  elif symbol == 3:\n",
        "    symbol = 'spades'\n",
        "  else:\n",
        "    invalid_flag = True\n",
        "\n",
        "  assert not invalid_flag, 'Invalid number'\n",
        "\n",
        "  return (rank, symbol)\n",
        "\n",
        "\n",
        "def card2value(card):\n",
        "  rank = card[0]\n",
        "  \n",
        "  if rank == 'A':\n",
        "    value = 1    \n",
        "  elif rank in ['J', 'Q', 'K']:\n",
        "    value = 10\n",
        "  elif int(rank) > 1 and int(rank) <= 10:\n",
        "    value = int(rank)\n",
        "  else:\n",
        "    print(rank)\n",
        "    raise NameError('Invalid card')\n",
        "  \n",
        "  return value"
      ],
      "execution_count": 83,
      "outputs": []
    },
    {
      "cell_type": "code",
      "metadata": {
        "id": "SBKV1Apns6KU"
      },
      "source": [
        "class BlackJackEnv():\n",
        "  def __init__(self, seed=0):    \n",
        "    self.seed(seed)\n",
        "    self.actions = {'0':'stand', '1': 'hit'}\n",
        "    \n",
        "  def step(self, action):\n",
        "    state = [list(self.player_hand).copy(), self.visible_dealer_card]\n",
        "\n",
        "    if action == 0:\n",
        "      sum_dealer, n_aces_dealer = self.calculate_sum(who='dealer')\n",
        "      score_dealer = self.calculate_score(sum_dealer, n_aces_dealer)\n",
        "      sum_player, n_aces_player = self.calculate_sum()\n",
        "      score_player = self.calculate_score(sum_player, n_aces_player)\n",
        "      \n",
        "      if (score_player == 21) and (len(self.player_hand) == 2):\n",
        "        if score_dealer == 21:\n",
        "          reward = 0.0\n",
        "        else:\n",
        "          reward = 1.0\n",
        "      else:\n",
        "        while score_dealer < 17:\n",
        "          new_dealer_card = set(random.sample(self.deck, 1))        \n",
        "          self.deck = self.deck.difference(new_dealer_card)\n",
        "          self.dealer_hand = self.dealer_hand.union(new_dealer_card)\n",
        "          sum_dealer, n_aces_dealer = self.calculate_sum(who='dealer')\n",
        "          score_dealer = self.calculate_score(sum_dealer, n_aces_dealer)\n",
        "        \n",
        "        dealer_went_bust = score_dealer > 21\n",
        "        player_went_bust = score_player > 21\n",
        "        if player_went_bust:\n",
        "          reward = -1.0\n",
        "        elif dealer_went_bust or (score_player > score_dealer):\n",
        "          reward = 1.0\n",
        "        elif score_player == score_dealer:\n",
        "          reward = 0.0\n",
        "        else:\n",
        "          reward = -1.0\n",
        "        \n",
        "      done = True      \n",
        "\n",
        "    elif action == 1:\n",
        "      new_player_card = set(random.sample(self.deck, 1))\n",
        "      self.deck = self.deck.difference(new_player_card)\n",
        "      self.player_hand = self.player_hand.union(new_player_card)\n",
        "      sum_player, n_aces_player = self.calculate_sum()\n",
        "      went_bust = sum_player > 21      \n",
        "      if went_bust:\n",
        "        reward = -1.0\n",
        "        done = True        \n",
        "      else:\n",
        "        reward = 0.0\n",
        "        done = False        \n",
        "\n",
        "    else:\n",
        "      raise NameError('Invalid action')\n",
        "    \n",
        "    if done:    \n",
        "      next_state = [list(self.player_hand).copy(), list(self.dealer_hand).copy()]\n",
        "    else:\n",
        "      next_state = [list(self.player_hand).copy(), self.visible_dealer_card]\n",
        "    return state, next_state, reward, done \n",
        "\n",
        "  def seed(self, seed=None):\n",
        "    random.seed(seed)\n",
        "\n",
        "  \n",
        "  def reset(self):\n",
        "    self.deck = set(range(0,52))\n",
        "    self.deck = set([number2card(x) for x in self.deck])\n",
        "\n",
        "    self.player_hand = set(random.sample(self.deck, 2))\n",
        "    self.deck = self.deck.difference(self.player_hand)\n",
        "    self.dealer_hand = set(random.sample(self.deck, 2))\n",
        "    self.deck = self.deck.difference(self.dealer_hand)\n",
        "\n",
        "    self.visible_dealer_card = set(random.sample(self.dealer_hand, 1)).pop()\n",
        "    state = [list(self.player_hand).copy(), self.visible_dealer_card]\n",
        "    return state\n",
        "\n",
        "\n",
        "  @staticmethod\n",
        "  def calculate_score(sum_no_aces, n_aces):\n",
        "    score = sum_no_aces\n",
        "    soft_hand = (21 - sum_no_aces) >= 10\n",
        "    at_least_one_ace = n_aces > 0\n",
        "    if soft_hand and at_least_one_ace:\n",
        "      score += 10\n",
        "    return score\n",
        "\n",
        "  \n",
        "  def calculate_sum(self, who='player'):\n",
        "    n_aces = 0\n",
        "    sum_ = 0\n",
        "    \n",
        "    if who == 'player':\n",
        "      hand = self.player_hand\n",
        "    else:\n",
        "      hand = self.dealer_hand\n",
        "    \n",
        "    for card in hand:  \n",
        "      rank = card[0]\n",
        "      if rank == 'A':\n",
        "        n_aces += 1          \n",
        "      sum_ += card2value(card)\n",
        "    \n",
        "    return sum_, n_aces\n",
        "\n",
        "class Agent():\n",
        "  def __init__(self, size_state=(10,10,2), size_action=(2,)):    \n",
        "    self.q_function = np.zeros(size_state+size_action)\n",
        "    self.n_visit = np.zeros(size_state+size_action)\n",
        "    self.exploration_factors = np.ones(size_state) \n",
        "    self.n_actions = size_action[0]\n",
        "  \n",
        "  @staticmethod\n",
        "  def state2code(state):\n",
        "    n_aces = 0\n",
        "    sum_ = 0\n",
        "    \n",
        "    player_hand, dealer_card = state\n",
        "    \n",
        "    for card in player_hand:  \n",
        "      rank = card[0]\n",
        "      if rank == 'A':\n",
        "        n_aces += 1          \n",
        "      sum_ += card2value(card)\n",
        "  \n",
        "    visible_score_dealer = card2value(dealer_card)\n",
        "    soft_hand = (21 - sum_) >= 10\n",
        "    usable_ace = (n_aces > 0)  and soft_hand\n",
        "    return sum_, visible_score_dealer, usable_ace\n",
        "\n",
        "  def transform_state(self, state):\n",
        "    sum_hand, score_dealer, usable_ace = self.state2code(state)\n",
        "    score = sum_hand + 10*usable_ace      \n",
        "    if score < 12:\n",
        "      s_0 = s_1 = s_2 = None\n",
        "    else:      \n",
        "      s_0 = int(score-12)\n",
        "      s_1 = int(score_dealer-1)\n",
        "      s_2 = int(usable_ace)    \n",
        "    return s_0, s_1, s_2\n",
        "\n",
        "  def sample_epsilon_policy(self, state, epsilon):\n",
        "    s_0, s_1, s_2 = state\n",
        "    q_values = self.q_function[s_0, s_1, s_2, :]\n",
        "    if np.random.rand() > epsilon:\n",
        "      possible_actions = q_values.argmax()\n",
        "      if isinstance(possible_actions, np.int64):\n",
        "        action = possible_actions\n",
        "      else:\n",
        "        action = random.choice(possible_actions)\n",
        "    else:\n",
        "      action = np.random.randint(0, high=self.n_actions)\n",
        "    return action\n",
        "  \n",
        "  def select_action(self, state, epsilon):\n",
        "    transformed_state = self.transform_state(state)\n",
        "    if transformed_state[0] is not None:\n",
        "      action = self.sample_epsilon_policy(transformed_state, epsilon)\n",
        "    else:\n",
        "      action = 1 # 'Hit' if sum is less than 12\n",
        "    return action, transformed_state\n",
        "  \n",
        "  def update(self, transformed_state, action, displacement, alpha):\n",
        "    state_action_pair_id = transformed_state + (action,)\n",
        "    # Update of # of times that state-action pair is visited\n",
        "    self.n_visit[state_action_pair_id] += 1            \n",
        "    # Update of value function\n",
        "    self.q_function[state_action_pair_id] += alpha * displacement"
      ],
      "execution_count": 84,
      "outputs": []
    },
    {
      "cell_type": "code",
      "metadata": {
        "colab": {
          "base_uri": "https://localhost:8080/"
        },
        "id": "ntizeIVw0u-W",
        "outputId": "39207696-8967-4148-cef3-c6b9a8978883"
      },
      "source": [
        "juego = BlackJackEnv(seed=semilla)\n",
        "mano_inicial = juego.reset()\n",
        "print('Mano inicial: ', mano_inicial)\n",
        "m, nm, r, d = juego.step(0)\n",
        "print('Nueva mano: ', nm)\n",
        "print('Recompensa: ', r)\n",
        "print('Juego terminado: ', d)"
      ],
      "execution_count": 85,
      "outputs": [
        {
          "output_type": "stream",
          "text": [
            "Mano inicial:  [[('Q', 'spades'), ('A', 'diamonds')], ('K', 'diamonds')]\n",
            "Nueva mano:  [[('Q', 'spades'), ('A', 'diamonds')], [('10', 'diamonds'), ('K', 'diamonds')]]\n",
            "Recompensa:  1.0\n",
            "Juego terminado:  True\n"
          ],
          "name": "stdout"
        }
      ]
    },
    {
      "cell_type": "code",
      "metadata": {
        "id": "ngGgrpHE3w-m"
      },
      "source": [
        "def entrenar_agente_MonteCarlo(juego, agente, alpha, epsilon, n_episodios, \n",
        "                    imprimir=False, imprimir_cada_ep=5000):  \n",
        "  for episodio in range(0, n_episodios):\n",
        "    terminado = False    \n",
        "    trayectoria = []\n",
        "    estado = juego.reset()\n",
        "\n",
        "    while not terminado:   \n",
        "      # El agente toma una accion\n",
        "      accion, estado_transformado = agente.select_action(estado, epsilon)\n",
        "      _, siguiente_estado, recompensa, terminado = juego.step(accion)\n",
        "\n",
        "      # Se añade el paso a la trayectoria\n",
        "      estado = siguiente_estado.copy()  \n",
        "      trayectoria.append([estado_transformado, accion, recompensa, terminado])\n",
        "\n",
        "    retorno = 0\n",
        "    for i in range(0,len(trayectoria)):\n",
        "      estado, accion, recompensa, terminado = trayectoria.pop()\n",
        "      retorno = recompensa + beta * retorno\n",
        "\n",
        "      # Se actualiza la funcion q del agente\n",
        "      if estado[0] is not None:\n",
        "        indice_estado_accion = estado + (accion,) \n",
        "        cambio_funcion_q = retorno - agente.q_function[indice_estado_accion]       \n",
        "        agente.update(estado, accion, cambio_funcion_q, alpha)\n",
        "\n",
        "    if imprimir and ((episodio+1) % imprimir_cada_ep) == 0:\n",
        "      print('Episodio: ' + str(episodio+1))"
      ],
      "execution_count": 86,
      "outputs": []
    },
    {
      "cell_type": "code",
      "metadata": {
        "id": "21iw3wSyb4z8"
      },
      "source": [
        "def entrenar_agente_SARSA(juego, agente, alpha, epsilon, n_episodios,\n",
        "                    imprimir=False, imprimir_cada_ep=5000):\n",
        "  for episodio in range(0, n_episodios):\n",
        "    terminado = False    \n",
        "    estado = juego.reset()\n",
        "\n",
        "    while not terminado:   \n",
        "      # El agente toma una accion\n",
        "      accion, estado_transformado = agente.select_action(estado, epsilon)\n",
        "      _, siguiente_estado, recompensa, terminado = juego.step(accion)\n",
        "\n",
        "      if estado_transformado[0] is not None:\n",
        "        # Se estima la recompensa futura. Si el juego se termino, esta es 0\n",
        "        if not terminado: \n",
        "          # Se codifica el siguiente estado y se calcula la siguiente accion\n",
        "          siguiente_accion, siguiente_estado_transformado = agente.select_action(siguiente_estado, epsilon)\n",
        "          indice_siguiente_estado_accion = siguiente_estado_transformado + (siguiente_accion,)\n",
        "\n",
        "          estimado_recompensa_futura = agente.q_function[indice_siguiente_estado_accion]\n",
        "        else:\n",
        "          estimado_recompensa_futura = 0\n",
        "      \n",
        "        # Se calcula el error de diferencia temporal\n",
        "        estimado_Bellman = recompensa + beta * estimado_recompensa_futura\n",
        "        indice_estado_accion = estado_transformado + (accion,)\n",
        "        error_dt = estimado_Bellman - funcion_q[indice_estado_accion]\n",
        "\n",
        "        # Se actualiza la funcion q del agente\n",
        "        agente.update(estado_transformado, accion, error_dt, alpha)\n",
        "    \n",
        "    if imprimir and ((episodio+1) % imprimir_cada_ep) == 0:\n",
        "      print('Episodio: ' + str(episodio+1))"
      ],
      "execution_count": 127,
      "outputs": []
    },
    {
      "cell_type": "code",
      "metadata": {
        "id": "Mky7SPkAyXJX"
      },
      "source": [
        "def evaluar_agente(juego, agente, n_episodios, epsilon, \n",
        "                   imprimir=False, ciclo=0):\n",
        "  retornos = []\n",
        "  for episodio in range(0, n_episodios):\n",
        "    terminado = False\n",
        "    retorno = 0\n",
        "    estado = juego.reset()\n",
        "\n",
        "    paso = 0\n",
        "    while not terminado:\n",
        "      accion = agente.select_action(estado, epsilon)[0]\n",
        "      _, siguiente_estado, recompensa, terminado = juego.step(accion)\n",
        "      retorno = retorno + (beta**paso) * recompensa\n",
        "      estado = siguiente_estado.copy()\n",
        "      paso += 1  \n",
        "      \n",
        "    retornos.append(retorno)\n",
        "  retornos = np.array(retornos)\n",
        "  retorno_promedio = retornos.mean()\n",
        "  desviacion_retorno = retornos.std()\n",
        "  if imprimir:\n",
        "    print(('Ciclo: ' + str(ciclo) + ', Retorno esperado: {:.3f}'.format(\n",
        "        retorno_promedio) + u\"\\u00B1\" + '{:.3f}'.format(desviacion_retorno)))\n",
        "  \n",
        "  return retorno_promedio, desviacion_retorno"
      ],
      "execution_count": 88,
      "outputs": []
    },
    {
      "cell_type": "code",
      "metadata": {
        "id": "HxrzLvzCaSa3"
      },
      "source": [
        "def entrenar_agente(juego, agente, metodo, alpha, epsilon, \n",
        "                    n_ciclos, n_episodios_ent, n_episodios_eval):\n",
        "  # Se crean listas de desempeño\n",
        "  retornos_media = []\n",
        "  retornos_desviacion = []\n",
        "\n",
        "  # Se ejecuta ciclo de entrenamiento y evaluacion una cantidad n_ciclos de veces\n",
        "  for ciclo in range(0, n_ciclos):\n",
        "    entrenamiento = metodos_de_entrenamiento[metodo]\n",
        "    entrenamiento(juego, agente, alpha, epsilon, n_episodios_ent)\n",
        "    G_promedio, G_desviacion = evaluar_agente(juego, agente, n_episodios_eval, epsilon,\n",
        "                              imprimir=(ciclo % imprimir_cada) == 0, ciclo=ciclo+1)\n",
        "    retornos_media.append(G_promedio)\n",
        "    retornos_desviacion.append(G_desviacion)\n",
        "    epsilon = max(min_epsilon, epsilon * decaimiento_epsilon)  \n",
        "  return retornos_media, retornos_desviacion"
      ],
      "execution_count": 89,
      "outputs": []
    },
    {
      "cell_type": "code",
      "metadata": {
        "id": "7_D6dKPGVPKC"
      },
      "source": [
        "# Se especifican hiperparametros\n",
        "N_episodios_ent = 10000\n",
        "N_episodios_eval = 10000\n",
        "N_ciclos = 200\n",
        "N_acciones = 2\n",
        "epsilon = 1.0\n",
        "min_epsilon = 0.01\n",
        "decaimiento_epsilon = 0.95 # 1.0-1e-3\n",
        "beta = 1.0\n",
        "alpha_MC = 0.001\n",
        "alpha_SARSA = 0.001\n",
        "imprimir_cada = 20\n",
        "\n",
        "# Diccionario de Metodos:\n",
        "metodos_de_entrenamiento = {'MonteCarlo': entrenar_agente_MonteCarlo,\n",
        "                            'SARSA': entrenar_agente_SARSA}\n",
        "\n",
        "# Se crea el juego de BlackJack y un agente por cada metodo\n",
        "# juego = BlackJackEnv(seed=semilla)\n",
        "# agente_MonteCarlo = Agent()\n",
        "# agente_SARSA = Agent()"
      ],
      "execution_count": 125,
      "outputs": []
    },
    {
      "cell_type": "code",
      "metadata": {
        "colab": {
          "base_uri": "https://localhost:8080/"
        },
        "id": "5P3Qa0uo1pLo",
        "outputId": "e9f6b2cd-a104-411c-dc4a-8679ff4448b2"
      },
      "source": [
        "retornos_MonteCarlo = entrenar_agente(juego, agente_MonteCarlo, 'MonteCarlo', alpha_MC, epsilon, \n",
        "                                      N_ciclos, N_episodios_ent, N_episodios_eval)"
      ],
      "execution_count": 91,
      "outputs": [
        {
          "output_type": "stream",
          "text": [
            "Ciclo: 1, Retorno esperado: -0.396±0.893\n",
            "Ciclo: 41, Retorno esperado: -0.196±0.947\n",
            "Ciclo: 81, Retorno esperado: -0.107±0.957\n",
            "Ciclo: 121, Retorno esperado: -0.071±0.954\n",
            "Ciclo: 161, Retorno esperado: -0.042±0.951\n",
            "Ciclo: 201, Retorno esperado: -0.054±0.953\n",
            "Ciclo: 241, Retorno esperado: -0.060±0.954\n",
            "Ciclo: 281, Retorno esperado: -0.028±0.954\n",
            "Ciclo: 321, Retorno esperado: -0.051±0.954\n",
            "Ciclo: 361, Retorno esperado: -0.044±0.955\n"
          ],
          "name": "stdout"
        }
      ]
    },
    {
      "cell_type": "code",
      "metadata": {
        "colab": {
          "base_uri": "https://localhost:8080/",
          "height": 485
        },
        "id": "bt428J3ABq6-",
        "outputId": "c7557684-400d-48a7-a2a7-7d48c952402a"
      },
      "source": [
        "retornos_SARSA = entrenar_agente(juego, agente_SARSA, 'SARSA', alpha_SARSA, epsilon, \n",
        "                                      N_ciclos, N_episodios_ent, N_episodios_eval)"
      ],
      "execution_count": 126,
      "outputs": [
        {
          "output_type": "stream",
          "text": [
            "Ciclo: 1, Retorno esperado: -0.397±0.893\n",
            "Ciclo: 21, Retorno esperado: -0.182±0.954\n",
            "Ciclo: 41, Retorno esperado: -0.117±0.960\n",
            "Ciclo: 61, Retorno esperado: -0.112±0.957\n",
            "Ciclo: 81, Retorno esperado: -0.087±0.963\n",
            "Ciclo: 101, Retorno esperado: -0.117±0.961\n",
            "Ciclo: 121, Retorno esperado: -0.098±0.960\n",
            "Ciclo: 141, Retorno esperado: -0.106±0.964\n"
          ],
          "name": "stdout"
        },
        {
          "output_type": "error",
          "ename": "KeyboardInterrupt",
          "evalue": "ignored",
          "traceback": [
            "\u001b[0;31m---------------------------------------------------------------------------\u001b[0m",
            "\u001b[0;31mKeyboardInterrupt\u001b[0m                         Traceback (most recent call last)",
            "\u001b[0;32m<ipython-input-126-04051dfe922b>\u001b[0m in \u001b[0;36m<module>\u001b[0;34m()\u001b[0m\n\u001b[1;32m      1\u001b[0m retornos_SARSA = entrenar_agente(juego, agente_SARSA, 'SARSA', alpha_SARSA, epsilon, \n\u001b[0;32m----> 2\u001b[0;31m                                       N_ciclos, N_episodios_ent, N_episodios_eval)\n\u001b[0m",
            "\u001b[0;32m<ipython-input-89-9db398b2dc08>\u001b[0m in \u001b[0;36mentrenar_agente\u001b[0;34m(juego, agente, metodo, alpha, epsilon, n_ciclos, n_episodios_ent, n_episodios_eval)\u001b[0m\n\u001b[1;32m      8\u001b[0m   \u001b[0;32mfor\u001b[0m \u001b[0mciclo\u001b[0m \u001b[0;32min\u001b[0m \u001b[0mrange\u001b[0m\u001b[0;34m(\u001b[0m\u001b[0;36m0\u001b[0m\u001b[0;34m,\u001b[0m \u001b[0mn_ciclos\u001b[0m\u001b[0;34m)\u001b[0m\u001b[0;34m:\u001b[0m\u001b[0;34m\u001b[0m\u001b[0;34m\u001b[0m\u001b[0m\n\u001b[1;32m      9\u001b[0m     \u001b[0mentrenamiento\u001b[0m \u001b[0;34m=\u001b[0m \u001b[0mmetodos_de_entrenamiento\u001b[0m\u001b[0;34m[\u001b[0m\u001b[0mmetodo\u001b[0m\u001b[0;34m]\u001b[0m\u001b[0;34m\u001b[0m\u001b[0;34m\u001b[0m\u001b[0m\n\u001b[0;32m---> 10\u001b[0;31m     \u001b[0mentrenamiento\u001b[0m\u001b[0;34m(\u001b[0m\u001b[0mjuego\u001b[0m\u001b[0;34m,\u001b[0m \u001b[0magente\u001b[0m\u001b[0;34m,\u001b[0m \u001b[0malpha\u001b[0m\u001b[0;34m,\u001b[0m \u001b[0mepsilon\u001b[0m\u001b[0;34m,\u001b[0m \u001b[0mn_episodios_ent\u001b[0m\u001b[0;34m)\u001b[0m\u001b[0;34m\u001b[0m\u001b[0;34m\u001b[0m\u001b[0m\n\u001b[0m\u001b[1;32m     11\u001b[0m     G_promedio, G_desviacion = evaluar_agente(juego, agente, n_episodios_eval, epsilon,\n\u001b[1;32m     12\u001b[0m                               imprimir=(ciclo % imprimir_cada) == 0, ciclo=ciclo+1)\n",
            "\u001b[0;32m<ipython-input-107-d28cfca61761>\u001b[0m in \u001b[0;36mentrenar_agente_SARSA\u001b[0;34m(juego, agente, alpha, epsilon, n_episodios, imprimir, imprimir_cada_ep)\u001b[0m\n\u001b[1;32m      3\u001b[0m   \u001b[0;32mfor\u001b[0m \u001b[0mepisodio\u001b[0m \u001b[0;32min\u001b[0m \u001b[0mrange\u001b[0m\u001b[0;34m(\u001b[0m\u001b[0;36m0\u001b[0m\u001b[0;34m,\u001b[0m \u001b[0mn_episodios\u001b[0m\u001b[0;34m)\u001b[0m\u001b[0;34m:\u001b[0m\u001b[0;34m\u001b[0m\u001b[0;34m\u001b[0m\u001b[0m\n\u001b[1;32m      4\u001b[0m     \u001b[0mterminado\u001b[0m \u001b[0;34m=\u001b[0m \u001b[0;32mFalse\u001b[0m\u001b[0;34m\u001b[0m\u001b[0;34m\u001b[0m\u001b[0m\n\u001b[0;32m----> 5\u001b[0;31m     \u001b[0mestado\u001b[0m \u001b[0;34m=\u001b[0m \u001b[0mjuego\u001b[0m\u001b[0;34m.\u001b[0m\u001b[0mreset\u001b[0m\u001b[0;34m(\u001b[0m\u001b[0;34m)\u001b[0m\u001b[0;34m\u001b[0m\u001b[0;34m\u001b[0m\u001b[0m\n\u001b[0m\u001b[1;32m      6\u001b[0m \u001b[0;34m\u001b[0m\u001b[0m\n\u001b[1;32m      7\u001b[0m     \u001b[0;32mwhile\u001b[0m \u001b[0;32mnot\u001b[0m \u001b[0mterminado\u001b[0m\u001b[0;34m:\u001b[0m\u001b[0;34m\u001b[0m\u001b[0;34m\u001b[0m\u001b[0m\n",
            "\u001b[0;32m<ipython-input-84-95806adef17c>\u001b[0m in \u001b[0;36mreset\u001b[0;34m(self)\u001b[0m\n\u001b[1;32m     67\u001b[0m   \u001b[0;32mdef\u001b[0m \u001b[0mreset\u001b[0m\u001b[0;34m(\u001b[0m\u001b[0mself\u001b[0m\u001b[0;34m)\u001b[0m\u001b[0;34m:\u001b[0m\u001b[0;34m\u001b[0m\u001b[0;34m\u001b[0m\u001b[0m\n\u001b[1;32m     68\u001b[0m     \u001b[0mself\u001b[0m\u001b[0;34m.\u001b[0m\u001b[0mdeck\u001b[0m \u001b[0;34m=\u001b[0m \u001b[0mset\u001b[0m\u001b[0;34m(\u001b[0m\u001b[0mrange\u001b[0m\u001b[0;34m(\u001b[0m\u001b[0;36m0\u001b[0m\u001b[0;34m,\u001b[0m\u001b[0;36m52\u001b[0m\u001b[0;34m)\u001b[0m\u001b[0;34m)\u001b[0m\u001b[0;34m\u001b[0m\u001b[0;34m\u001b[0m\u001b[0m\n\u001b[0;32m---> 69\u001b[0;31m     \u001b[0mself\u001b[0m\u001b[0;34m.\u001b[0m\u001b[0mdeck\u001b[0m \u001b[0;34m=\u001b[0m \u001b[0mset\u001b[0m\u001b[0;34m(\u001b[0m\u001b[0;34m[\u001b[0m\u001b[0mnumber2card\u001b[0m\u001b[0;34m(\u001b[0m\u001b[0mx\u001b[0m\u001b[0;34m)\u001b[0m \u001b[0;32mfor\u001b[0m \u001b[0mx\u001b[0m \u001b[0;32min\u001b[0m \u001b[0mself\u001b[0m\u001b[0;34m.\u001b[0m\u001b[0mdeck\u001b[0m\u001b[0;34m]\u001b[0m\u001b[0;34m)\u001b[0m\u001b[0;34m\u001b[0m\u001b[0;34m\u001b[0m\u001b[0m\n\u001b[0m\u001b[1;32m     70\u001b[0m \u001b[0;34m\u001b[0m\u001b[0m\n\u001b[1;32m     71\u001b[0m     \u001b[0mself\u001b[0m\u001b[0;34m.\u001b[0m\u001b[0mplayer_hand\u001b[0m \u001b[0;34m=\u001b[0m \u001b[0mset\u001b[0m\u001b[0;34m(\u001b[0m\u001b[0mrandom\u001b[0m\u001b[0;34m.\u001b[0m\u001b[0msample\u001b[0m\u001b[0;34m(\u001b[0m\u001b[0mself\u001b[0m\u001b[0;34m.\u001b[0m\u001b[0mdeck\u001b[0m\u001b[0;34m,\u001b[0m \u001b[0;36m2\u001b[0m\u001b[0;34m)\u001b[0m\u001b[0;34m)\u001b[0m\u001b[0;34m\u001b[0m\u001b[0;34m\u001b[0m\u001b[0m\n",
            "\u001b[0;32m<ipython-input-84-95806adef17c>\u001b[0m in \u001b[0;36m<listcomp>\u001b[0;34m(.0)\u001b[0m\n\u001b[1;32m     67\u001b[0m   \u001b[0;32mdef\u001b[0m \u001b[0mreset\u001b[0m\u001b[0;34m(\u001b[0m\u001b[0mself\u001b[0m\u001b[0;34m)\u001b[0m\u001b[0;34m:\u001b[0m\u001b[0;34m\u001b[0m\u001b[0;34m\u001b[0m\u001b[0m\n\u001b[1;32m     68\u001b[0m     \u001b[0mself\u001b[0m\u001b[0;34m.\u001b[0m\u001b[0mdeck\u001b[0m \u001b[0;34m=\u001b[0m \u001b[0mset\u001b[0m\u001b[0;34m(\u001b[0m\u001b[0mrange\u001b[0m\u001b[0;34m(\u001b[0m\u001b[0;36m0\u001b[0m\u001b[0;34m,\u001b[0m\u001b[0;36m52\u001b[0m\u001b[0;34m)\u001b[0m\u001b[0;34m)\u001b[0m\u001b[0;34m\u001b[0m\u001b[0;34m\u001b[0m\u001b[0m\n\u001b[0;32m---> 69\u001b[0;31m     \u001b[0mself\u001b[0m\u001b[0;34m.\u001b[0m\u001b[0mdeck\u001b[0m \u001b[0;34m=\u001b[0m \u001b[0mset\u001b[0m\u001b[0;34m(\u001b[0m\u001b[0;34m[\u001b[0m\u001b[0mnumber2card\u001b[0m\u001b[0;34m(\u001b[0m\u001b[0mx\u001b[0m\u001b[0;34m)\u001b[0m \u001b[0;32mfor\u001b[0m \u001b[0mx\u001b[0m \u001b[0;32min\u001b[0m \u001b[0mself\u001b[0m\u001b[0;34m.\u001b[0m\u001b[0mdeck\u001b[0m\u001b[0;34m]\u001b[0m\u001b[0;34m)\u001b[0m\u001b[0;34m\u001b[0m\u001b[0;34m\u001b[0m\u001b[0m\n\u001b[0m\u001b[1;32m     70\u001b[0m \u001b[0;34m\u001b[0m\u001b[0m\n\u001b[1;32m     71\u001b[0m     \u001b[0mself\u001b[0m\u001b[0;34m.\u001b[0m\u001b[0mplayer_hand\u001b[0m \u001b[0;34m=\u001b[0m \u001b[0mset\u001b[0m\u001b[0;34m(\u001b[0m\u001b[0mrandom\u001b[0m\u001b[0;34m.\u001b[0m\u001b[0msample\u001b[0m\u001b[0;34m(\u001b[0m\u001b[0mself\u001b[0m\u001b[0;34m.\u001b[0m\u001b[0mdeck\u001b[0m\u001b[0;34m,\u001b[0m \u001b[0;36m2\u001b[0m\u001b[0;34m)\u001b[0m\u001b[0;34m)\u001b[0m\u001b[0;34m\u001b[0m\u001b[0;34m\u001b[0m\u001b[0m\n",
            "\u001b[0;32m<ipython-input-83-9e77948b8fc7>\u001b[0m in \u001b[0;36mnumber2card\u001b[0;34m(number)\u001b[0m\n\u001b[1;32m     14\u001b[0m     \u001b[0mrank\u001b[0m \u001b[0;34m=\u001b[0m \u001b[0;34m'K'\u001b[0m\u001b[0;34m\u001b[0m\u001b[0;34m\u001b[0m\u001b[0m\n\u001b[1;32m     15\u001b[0m   \u001b[0;32melse\u001b[0m\u001b[0;34m:\u001b[0m\u001b[0;34m\u001b[0m\u001b[0;34m\u001b[0m\u001b[0m\n\u001b[0;32m---> 16\u001b[0;31m     \u001b[0mrank\u001b[0m \u001b[0;34m=\u001b[0m \u001b[0mstr\u001b[0m\u001b[0;34m(\u001b[0m\u001b[0mint\u001b[0m\u001b[0;34m(\u001b[0m\u001b[0mrank\u001b[0m\u001b[0;34m)\u001b[0m\u001b[0;34m)\u001b[0m\u001b[0;34m\u001b[0m\u001b[0;34m\u001b[0m\u001b[0m\n\u001b[0m\u001b[1;32m     17\u001b[0m \u001b[0;34m\u001b[0m\u001b[0m\n\u001b[1;32m     18\u001b[0m   \u001b[0msymbol\u001b[0m \u001b[0;34m=\u001b[0m \u001b[0mnumber\u001b[0m \u001b[0;34m//\u001b[0m \u001b[0;36m13\u001b[0m\u001b[0;34m\u001b[0m\u001b[0;34m\u001b[0m\u001b[0m\n",
            "\u001b[0;31mKeyboardInterrupt\u001b[0m: "
          ]
        }
      ]
    },
    {
      "cell_type": "code",
      "metadata": {
        "colab": {
          "base_uri": "https://localhost:8080/"
        },
        "id": "VhCMSLcRATqc",
        "outputId": "1a490b4d-0cd6-47f5-e593-86aeb62599d4"
      },
      "source": [
        "retorno_final_MonteCarlo, desviacion_final_MonteCarlo = evaluar_agente(juego, agente_MonteCarlo, int(1e6), 0.0)\n",
        "print(('Retorno esperado: {:.3f}'.format(retorno_final_MonteCarlo) + \n",
        "       u\"\\u00B1\" + '{:.3f}'.format(desviacion_final_MonteCarlo)))"
      ],
      "execution_count": 110,
      "outputs": [
        {
          "output_type": "stream",
          "text": [
            "Retorno esperado: -0.040±0.954\n"
          ],
          "name": "stdout"
        }
      ]
    },
    {
      "cell_type": "code",
      "metadata": {
        "colab": {
          "base_uri": "https://localhost:8080/"
        },
        "id": "TPFsR6MLJ3wt",
        "outputId": "205509de-f275-461d-aff9-c0649e9c09a2"
      },
      "source": [
        "retorno_final_SARSA, desviacion_final_SARSA = evaluar_agente(juego, agente_SARSA, int(1e6), 0.0)\n",
        "print(('Retorno esperado: {:.3f}'.format(retorno_final_SARSA) + \n",
        "       u\"\\u00B1\" + '{:.3f}'.format(desviacion_final_SARSA)))"
      ],
      "execution_count": 119,
      "outputs": [
        {
          "output_type": "stream",
          "text": [
            "Retorno esperado: -0.097±0.963\n"
          ],
          "name": "stdout"
        }
      ]
    },
    {
      "cell_type": "code",
      "metadata": {
        "id": "JASkuFq2BOIq"
      },
      "source": [
        "import pickle\n",
        "pickle.dump(funcion_q, open('q.pt', 'wb'))\n",
        "pickle.dump(n_visitas, open('n.pt', 'wb'))"
      ],
      "execution_count": null,
      "outputs": []
    },
    {
      "cell_type": "code",
      "metadata": {
        "colab": {
          "base_uri": "https://localhost:8080/",
          "height": 350
        },
        "id": "6MWgMc8eK5x1",
        "outputId": "cf7e337d-6075-41de-9d75-da24fab28f76"
      },
      "source": [
        "fig, ax = plt.subplots(1,1, figsize=(8,5))\n",
        "plt.plot(np.array(retornos_MonteCarlo[0]), label='MonteCarlo')\n",
        "plt.plot(np.array(retornos_SARSA[0]), label='SARSA')\n",
        "plt.title('Curva de aprendizaje')\n",
        "plt.ylabel('Retorno promedio')\n",
        "plt.xlabel('Iteracion')\n",
        "plt.legend(fontsize=15)\n",
        "plt.show()\n",
        "plt.close()"
      ],
      "execution_count": 120,
      "outputs": [
        {
          "output_type": "display_data",
          "data": {
            "image/png": "[encoded data removed]",
            "text/plain": [
              "<Figure size 576x360 with 1 Axes>"
            ]
          },
          "metadata": {
            "tags": [],
            "needs_background": "light"
          }
        }
      ]
    },
    {
      "cell_type": "code",
      "metadata": {
        "id": "LCUqv6jEyIpo"
      },
      "source": [
        "politica_optima_MonteCarlo = agente_MonteCarlo.q_function.argmax(3)\n",
        "politica_optima_MC_df_dic = {}\n",
        "for i in range(0,2):\n",
        "  politica_optima_MC_df_dic[str(i)] = pd.DataFrame(data=politica_optima_MonteCarlo[:,:,i], \n",
        "                                       index=range(12,22), \n",
        "                                       columns=['A']+[str(x) for x in range(2,11)])"
      ],
      "execution_count": 97,
      "outputs": []
    },
    {
      "cell_type": "code",
      "metadata": {
        "colab": {
          "base_uri": "https://localhost:8080/",
          "height": 378
        },
        "id": "3rcuBAAgLkOJ",
        "outputId": "86a35d5c-9b70-420c-c309-9c29c4170d54"
      },
      "source": [
        "fig, ax = plt.subplots(1,2, figsize=(14,6))\n",
        "for i in range(0,2):\n",
        "  sns_ax = sns.heatmap(politica_optima_MC_df_dic[str(i)], ax=ax[i], cmap=sns.color_palette(\"hls\", 2))\n",
        "  sns_ax.invert_yaxis()\n",
        "plt.show()\n",
        "plt.close()"
      ],
      "execution_count": 98,
      "outputs": [
        {
          "output_type": "display_data",
          "data": {
            "image/png": "[encoded data removed]",
            "text/plain": [
              "<Figure size 1008x432 with 4 Axes>"
            ]
          },
          "metadata": {
            "tags": [],
            "needs_background": "light"
          }
        }
      ]
    },
    {
      "cell_type": "code",
      "metadata": {
        "id": "RgfiFK3tLeQn"
      },
      "source": [
        ""
      ],
      "execution_count": null,
      "outputs": []
    }
  ]
}