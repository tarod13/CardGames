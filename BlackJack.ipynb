{
  "nbformat": 4,
  "nbformat_minor": 0,
  "metadata": {
    "colab": {
      "name": "BlackJack.ipynb",
      "provenance": [],
      "collapsed_sections": [],
      "authorship_tag": "ABX9TyMPrb0Oxu95IcUukFM93Pjr",
      "include_colab_link": true
    },
    "kernelspec": {
      "name": "python3",
      "display_name": "Python 3"
    }
  },
  "cells": [
    {
      "cell_type": "markdown",
      "metadata": {
        "id": "view-in-github",
        "colab_type": "text"
      },
      "source": [
        "<a href=\"https://colab.research.google.com/github/tarod13/CardGames/blob/main/BlackJack.ipynb\" target=\"_parent\"><img src=\"https://colab.research.google.com/assets/colab-badge.svg\" alt=\"Open In Colab\"/></a>"
      ]
    },
    {
      "cell_type": "code",
      "metadata": {
        "id": "qg_dBN3htlt5"
      },
      "source": [
        "import numpy as np\n",
        "import random"
      ],
      "execution_count": 47,
      "outputs": []
    },
    {
      "cell_type": "code",
      "metadata": {
        "id": "s_Rd3TPN13W-"
      },
      "source": [
        "def number2card(number):\n",
        "  invalid_flag = False\n",
        "  \n",
        "  rank = (number % 13) + 1\n",
        "  if rank < 1 or rank > 13:\n",
        "    invalid_flag = True\n",
        "  elif rank == 1:\n",
        "    rank = 'A'\n",
        "  elif rank == 11:\n",
        "    rank = 'J'\n",
        "  elif rank == 12:\n",
        "    rank = 'Q'\n",
        "  elif rank == 13:\n",
        "    rank = 'K'\n",
        "  else:\n",
        "    rank = str(int(rank))\n",
        "  \n",
        "  symbol = number // 13\n",
        "  if symbol == 0:\n",
        "    symbol = 'clubs'\n",
        "  elif symbol == 1:\n",
        "    symbol = 'diamonds'\n",
        "  elif symbol == 2:\n",
        "    symbol = 'hearts'\n",
        "  elif symbol == 3:\n",
        "    symbol = 'spades'\n",
        "  else:\n",
        "    invalid_flag = True\n",
        "\n",
        "  assert not invalid_flag, 'Invalid number'\n",
        "\n",
        "  return (rank, symbol)\n",
        "\n",
        "\n",
        "def card2value(card):\n",
        "  rank = card[0]\n",
        "  \n",
        "  if rank == 'A':\n",
        "    value = 1    \n",
        "  elif rank in ['J', 'Q', 'K']:\n",
        "    value = 10\n",
        "  elif int(rank) > 1 and int(rank) <= 10:\n",
        "    value = int(rank)\n",
        "  else:\n",
        "    print(rank)\n",
        "    raise NameError('Invalid card')\n",
        "  \n",
        "  return value"
      ],
      "execution_count": 92,
      "outputs": []
    },
    {
      "cell_type": "code",
      "metadata": {
        "id": "yyX3PfvNb3vI"
      },
      "source": [
        "def state2code(state):\n",
        "  n_aces = 0\n",
        "  sum_ = 0\n",
        "  \n",
        "  player_hand, dealer_card = state\n",
        "  \n",
        "  for card in player_hand:  \n",
        "    rank = card[0]\n",
        "    if rank == 'A':\n",
        "      n_aces += 1          \n",
        "    sum_ += card2value(card)\n",
        "  \n",
        "  visible_score_dealer = card2value(dealer_card)\n",
        "  aces = n_aces > 0\n",
        "  return (sum_, visible_score_dealer, aces)\n",
        "\n",
        "\n",
        "def sample_epsilon_policy(hand_sum, dealer_score, aces, q_function, eps):\n",
        "  q_values = q_function[int(hand_sum-12), int(dealer_score-1), int(aces), :]\n",
        "  if np.random.rand() > eps:\n",
        "    possible_actions = q_values.argmax()\n",
        "    if isinstance(possible_actions, np.int64):\n",
        "      action_id = possible_actions\n",
        "    else:\n",
        "      action_id = random.choice(possible_actions)\n",
        "  else:\n",
        "    action_id = np.random.randint(0, high=N_acciones)\n",
        "  if action_id == 0:\n",
        "    return 'stand'\n",
        "  else:\n",
        "    return 'hit'"
      ],
      "execution_count": 193,
      "outputs": []
    },
    {
      "cell_type": "code",
      "metadata": {
        "id": "SBKV1Apns6KU"
      },
      "source": [
        "class BlackJackEnv():\n",
        "  def __init__(self, seed=0):    \n",
        "    self.seed(seed)\n",
        "    \n",
        "  def step(self, action):\n",
        "    state = [list(self.player_hand).copy(), self.visible_dealer_card]\n",
        "\n",
        "    if action == 0 or action == '0' or action == 'stand':\n",
        "      sum_dealer, n_aces_dealer = self.calculate_sum(who='dealer')\n",
        "      less_than_17 = (sum_dealer + int(n_aces_dealer>0) * 10) < 17\n",
        "      more_than_21 = False\n",
        "      while less_than_17 and not more_than_21:\n",
        "        new_dealer_card = set(random.sample(self.deck, 1))        \n",
        "        self.deck = self.deck - new_dealer_card\n",
        "        self.dealer_hand = self.dealer_hand.union(new_dealer_card)\n",
        "\n",
        "        new_dealer_card = new_dealer_card.pop()\n",
        "        sum_dealer += card2value(new_dealer_card)\n",
        "        rank = new_dealer_card[0]\n",
        "        if rank == 'A':\n",
        "          n_aces_dealer += 1\n",
        "        less_than_17 = (sum_dealer + int(n_aces_dealer>0) * 10) < 17   \n",
        "        more_than_21 = sum_dealer > 21\n",
        "      done = True\n",
        "      score_dealer = self.calculate_score(sum_dealer, n_aces_dealer)\n",
        "      if score_dealer > 21:\n",
        "        reward = 1.0\n",
        "      else:\n",
        "        sum_player, n_aces_player = self.calculate_sum()\n",
        "        score_player = self.calculate_score(sum_player, n_aces_player)\n",
        "        if score_player > score_dealer:\n",
        "          reward = 1.0\n",
        "        elif score_player == score_dealer:\n",
        "          reward = 0.0\n",
        "        else:\n",
        "          reward = -1.0\n",
        "\n",
        "    elif action == 1 or action == '1' or action == 'hit':\n",
        "      new_player_card = set(random.sample(self.deck, 1))\n",
        "      self.deck = self.deck - new_player_card\n",
        "      self.player_hand = self.player_hand.union(new_player_card)\n",
        "      sum_player, n_aces_player = self.calculate_sum()\n",
        "      went_bust = sum_player > 21      \n",
        "      if went_bust:\n",
        "        reward = -1\n",
        "        done = True        \n",
        "      else:\n",
        "        reward = 0\n",
        "        done = False        \n",
        "\n",
        "    else:\n",
        "      raise NameError('Invalid action')\n",
        "    \n",
        "    if done:    \n",
        "      next_state = [list(self.player_hand).copy(), list(self.dealer_hand).copy()]\n",
        "    else:\n",
        "      next_state = [list(self.player_hand).copy(), self.visible_dealer_card]\n",
        "    return state, next_state, reward, done \n",
        "\n",
        "  def seed(self, seed=None):\n",
        "    random.seed(seed)\n",
        "\n",
        "  \n",
        "  def reset(self):\n",
        "    self.deck = set(range(0,52))\n",
        "    self.deck = set([number2card(x) for x in self.deck])\n",
        "\n",
        "    self.player_hand = set(random.sample(self.deck, 2))\n",
        "    self.deck = self.deck - self.player_hand\n",
        "    self.dealer_hand = set(random.sample(self.deck, 2))\n",
        "    self.deck = self.deck - self.dealer_hand\n",
        "\n",
        "    self.visible_dealer_card = list(self.dealer_hand)[0]\n",
        "    state = [list(self.player_hand).copy(), self.visible_dealer_card]\n",
        "    return state\n",
        "\n",
        "\n",
        "  @staticmethod\n",
        "  def calculate_score(sum_no_aces, n_aces):\n",
        "    score = sum_no_aces\n",
        "    soft_hand = (21 - sum_no_aces) >= 10\n",
        "    at_least_one_ace = n_aces > 0\n",
        "    if soft_hand and at_least_one_ace:\n",
        "      score += 10\n",
        "    return score\n",
        "\n",
        "  \n",
        "  def calculate_sum(self, who='player'):\n",
        "    n_aces = 0\n",
        "    sum_ = 0\n",
        "    \n",
        "    if who == 'player':\n",
        "      hand = self.player_hand\n",
        "    else:\n",
        "      hand = self.dealer_hand\n",
        "    \n",
        "    for card in hand:  \n",
        "      rank = card[0]\n",
        "      if rank == 'A':\n",
        "        n_aces += 1          \n",
        "      sum_ += card2value(card)\n",
        "    \n",
        "    return sum_, n_aces"
      ],
      "execution_count": 147,
      "outputs": []
    },
    {
      "cell_type": "code",
      "metadata": {
        "colab": {
          "base_uri": "https://localhost:8080/"
        },
        "id": "ntizeIVw0u-W",
        "outputId": "9c86c661-7490-49fd-d01f-203707d837b2"
      },
      "source": [
        "semilla = 0\n",
        "juego = BlackJackEnv(seed=semilla)\n",
        "mano_inicial = juego.reset()\n",
        "print('Mano inicial: ', mano_inicial)\n",
        "m, nm, r, d = juego.step('hit')\n",
        "print('Nueva mano: ', nm)\n",
        "print('Recompensa: ', r)\n",
        "print('Juego terminado: ', d)\n",
        "m, nm, r, d = juego.step('stand')\n",
        "print('Nueva mano: ', nm)\n",
        "print('Recompensa: ', r)\n",
        "print('Juego terminado: ', d)"
      ],
      "execution_count": 149,
      "outputs": [
        {
          "output_type": "stream",
          "text": [
            "Mano inicial:  [[('A', 'spades'), ('5', 'hearts')], ('4', 'hearts')]\n",
            "Nueva mano:  [[('A', 'spades'), ('5', 'hearts'), ('5', 'diamonds')], ('4', 'hearts')]\n",
            "Recompensa:  0\n",
            "Juego terminado:  False\n",
            "Nueva mano:  [[('A', 'spades'), ('5', 'hearts'), ('5', 'diamonds')], [('4', 'hearts'), ('7', 'hearts'), ('5', 'spades'), ('10', 'diamonds')]]\n",
            "Recompensa:  1.0\n",
            "Juego terminado:  True\n"
          ],
          "name": "stdout"
        }
      ]
    },
    {
      "cell_type": "code",
      "metadata": {
        "id": "ngGgrpHE3w-m"
      },
      "source": [
        "def entrenar_agente(funcion_q, juego, n_episodios, \n",
        "                    imprimir=False, imprimir_cada_ep=5000, inicializar=False):\n",
        "  if inicializar:\n",
        "    n_visitas = np.zeros((10,10,2,2))\n",
        "    \n",
        "  for episodio in range(0, n_episodios):\n",
        "    terminado = False    \n",
        "    trayectoria = []\n",
        "    estado = juego.reset()\n",
        "\n",
        "    while not terminado:\n",
        "      suma_mano, puntaje_dealer, aces = state2code(estado)\n",
        "      if suma_mano < 12:\n",
        "        accion = 'hit'\n",
        "      else:\n",
        "        if inicializar:\n",
        "          if suma_mano < 20:\n",
        "            accion = 'hit'\n",
        "          else:\n",
        "            accion = 'stand'\n",
        "        else:  \n",
        "          accion = sample_epsilon_policy(suma_mano, puntaje_dealer, aces, funcion_q, eps=epsilon)\n",
        "      _, siguiente_estado, recompensa, terminado = juego.step(accion)\n",
        "\n",
        "      estado = siguiente_estado.copy()  \n",
        "      trayectoria.append([suma_mano, puntaje_dealer, aces, accion, recompensa, terminado])\n",
        "\n",
        "    retorno = 0\n",
        "    for i in range(0,len(trayectoria)):\n",
        "      suma_mano, puntaje_dealer, aces, accion, recompensa, terminado = trayectoria.pop()\n",
        "      retorno = recompensa + beta * retorno\n",
        "\n",
        "      if suma_mano >= 12:\n",
        "        # Indices del estado\n",
        "        s_0 = int(suma_mano-12)\n",
        "        s_1 = int(puntaje_dealer-1)\n",
        "        s_2 = int(aces)\n",
        "\n",
        "        # Indice de la accion\n",
        "        if accion == 'hit':\n",
        "          a = 1\n",
        "        else:\n",
        "          a = 0\n",
        "        \n",
        "        if inicializar:\n",
        "          # Numero de veces que ha sido visitada la pareja estado-acccion ((s0,s1,s2), a) \n",
        "          n = n_visitas[s_0, s_1, s_2, a] + 1\n",
        "\n",
        "          # Se actualiza el número de visitas\n",
        "          n_visitas[s_0, s_1, s_2, a] = n\n",
        "          coef = 1/n\n",
        "        else:\n",
        "          coef = alpha\n",
        "        \n",
        "        # Se actualiza la funcion de valor\n",
        "        funcion_q[s_0, s_1, s_2, a] += coef * (retorno - funcion_q[s_0, s_1, s_2, a]) \n",
        "    \n",
        "    if imprimir and ((episodio+1) % imprimir_cada_ep) == 0:\n",
        "      print('Episodio: ' + str(episodio+1))"
      ],
      "execution_count": 349,
      "outputs": []
    },
    {
      "cell_type": "code",
      "metadata": {
        "id": "Mky7SPkAyXJX"
      },
      "source": [
        "def evaluar_agente(funcion_q, juego, n_episodios, imprimir=False, ciclo=0):\n",
        "  retornos = []\n",
        "  for episodio in range(0, n_episodios):\n",
        "    terminado = False\n",
        "    retorno = 0\n",
        "    estado = juego.reset()\n",
        "\n",
        "    paso = 0\n",
        "    while not terminado:\n",
        "      suma_mano, puntaje_dealer, aces = state2code(estado)\n",
        "      if suma_mano < 12:\n",
        "        accion = 'hit'\n",
        "      else:\n",
        "        accion = sample_epsilon_policy(suma_mano, puntaje_dealer, aces, funcion_q, eps=epsilon)\n",
        "      _, siguiente_estado, recompensa, terminado = juego.step(accion)\n",
        "      retorno = retorno + (beta**paso) * recompensa\n",
        "      estado = siguiente_estado.copy()\n",
        "      paso += 1  \n",
        "      \n",
        "    retornos.append(retorno)\n",
        "  retornos = np.array(retornos)\n",
        "  retorno_promedio = retornos.mean()\n",
        "  desviacion_retorno = retornos.std()\n",
        "  if imprimir:\n",
        "    print(('Ciclo: ' + str(ciclo) + ', Retorno esperado: {:.3f}'.format(\n",
        "        retorno_promedio) + u\"\\u00B1\" + '{:.3f}'.format(desviacion_retorno)))\n",
        "  \n",
        "  return retorno_promedio, desviacion_retorno"
      ],
      "execution_count": 303,
      "outputs": []
    },
    {
      "cell_type": "code",
      "metadata": {
        "id": "7_D6dKPGVPKC"
      },
      "source": [
        "N_episodios_train = 5000\n",
        "N_episodios_eval = 1000\n",
        "N_ciclos = 2000\n",
        "N_acciones = 2\n",
        "epsilon = 1.0\n",
        "min_epsilon = 0.01\n",
        "decay_eps = 0.995\n",
        "beta = 1.0\n",
        "alpha = 0.003\n",
        "imprimir_cada = 50\n",
        "\n",
        "juego = BlackJackEnv(seed=semilla)\n",
        "funcion_q = np.zeros((10,10,2,2))\n",
        "np.random.seed(semilla)"
      ],
      "execution_count": 365,
      "outputs": []
    },
    {
      "cell_type": "code",
      "metadata": {
        "colab": {
          "base_uri": "https://localhost:8080/"
        },
        "id": "HxrzLvzCaSa3",
        "outputId": "921f6a4e-7fdb-4106-c023-943ef60f36e0"
      },
      "source": [
        "Gs = []\n",
        "sigmaGs = []\n",
        "for ciclo in range(0, N_ciclos):\n",
        "  entrenar_agente(funcion_q, juego, N_episodios_train)\n",
        "  G, sigmaG = evaluar_agente(funcion_q, juego, N_episodios_eval,\n",
        "                             imprimir=(ciclo % imprimir_cada) == 0, ciclo=ciclo+1)\n",
        "  Gs.append(G)\n",
        "  sigmaGs.append(sigmaG)\n",
        "  epsilon = max(min_epsilon, epsilon * decay_eps)"
      ],
      "execution_count": 366,
      "outputs": [
        {
          "output_type": "stream",
          "text": [
            "Ciclo: 1, Retorno esperado: -0.446±0.872\n",
            "Ciclo: 51, Retorno esperado: -0.339±0.917\n",
            "Ciclo: 101, Retorno esperado: -0.288±0.925\n",
            "Ciclo: 151, Retorno esperado: -0.237±0.944\n",
            "Ciclo: 201, Retorno esperado: -0.208±0.933\n",
            "Ciclo: 251, Retorno esperado: -0.157±0.949\n",
            "Ciclo: 301, Retorno esperado: -0.152±0.948\n",
            "Ciclo: 351, Retorno esperado: -0.166±0.953\n",
            "Ciclo: 401, Retorno esperado: -0.104±0.956\n",
            "Ciclo: 451, Retorno esperado: -0.099±0.955\n",
            "Ciclo: 501, Retorno esperado: -0.088±0.956\n",
            "Ciclo: 551, Retorno esperado: -0.087±0.954\n",
            "Ciclo: 601, Retorno esperado: -0.098±0.951\n",
            "Ciclo: 651, Retorno esperado: -0.065±0.951\n",
            "Ciclo: 701, Retorno esperado: -0.146±0.945\n",
            "Ciclo: 751, Retorno esperado: -0.080±0.953\n",
            "Ciclo: 801, Retorno esperado: -0.111±0.953\n",
            "Ciclo: 851, Retorno esperado: -0.061±0.959\n",
            "Ciclo: 901, Retorno esperado: -0.089±0.952\n",
            "Ciclo: 951, Retorno esperado: -0.061±0.951\n",
            "Ciclo: 1001, Retorno esperado: -0.184±0.934\n",
            "Ciclo: 1051, Retorno esperado: -0.109±0.951\n",
            "Ciclo: 1101, Retorno esperado: -0.064±0.951\n",
            "Ciclo: 1151, Retorno esperado: -0.066±0.955\n",
            "Ciclo: 1201, Retorno esperado: -0.123±0.953\n",
            "Ciclo: 1251, Retorno esperado: -0.063±0.947\n",
            "Ciclo: 1301, Retorno esperado: -0.112±0.944\n",
            "Ciclo: 1351, Retorno esperado: -0.075±0.957\n",
            "Ciclo: 1401, Retorno esperado: -0.027±0.959\n",
            "Ciclo: 1451, Retorno esperado: -0.104±0.951\n",
            "Ciclo: 1501, Retorno esperado: -0.087±0.952\n",
            "Ciclo: 1551, Retorno esperado: -0.075±0.952\n",
            "Ciclo: 1601, Retorno esperado: -0.044±0.958\n",
            "Ciclo: 1651, Retorno esperado: -0.058±0.959\n",
            "Ciclo: 1701, Retorno esperado: -0.060±0.949\n",
            "Ciclo: 1751, Retorno esperado: -0.097±0.950\n",
            "Ciclo: 1801, Retorno esperado: -0.064±0.940\n",
            "Ciclo: 1851, Retorno esperado: -0.086±0.949\n",
            "Ciclo: 1901, Retorno esperado: -0.081±0.951\n",
            "Ciclo: 1951, Retorno esperado: -0.092±0.938\n"
          ],
          "name": "stdout"
        }
      ]
    },
    {
      "cell_type": "code",
      "metadata": {
        "id": "JASkuFq2BOIq"
      },
      "source": [
        "import pickle"
      ],
      "execution_count": 368,
      "outputs": []
    },
    {
      "cell_type": "code",
      "metadata": {
        "id": "tO2I37vEBSbh"
      },
      "source": [
        "pickle.dump(funcion_q, open('q.pt', 'wb'))"
      ],
      "execution_count": 369,
      "outputs": []
    },
    {
      "cell_type": "code",
      "metadata": {
        "id": "bKx4iC9wKzyR"
      },
      "source": [
        "import matplotlib.pyplot as plt\n",
        "import pandas as pd\n",
        "import seaborn as sns"
      ],
      "execution_count": 232,
      "outputs": []
    },
    {
      "cell_type": "code",
      "metadata": {
        "colab": {
          "base_uri": "https://localhost:8080/",
          "height": 283
        },
        "id": "6MWgMc8eK5x1",
        "outputId": "d6d25136-5289-4dc7-afab-ebc4d1812ad3"
      },
      "source": [
        "plt.plot(np.array(Gs))"
      ],
      "execution_count": 370,
      "outputs": [
        {
          "output_type": "execute_result",
          "data": {
            "text/plain": [
              "[<matplotlib.lines.Line2D at 0x7f6eab0c1f60>]"
            ]
          },
          "metadata": {
            "tags": []
          },
          "execution_count": 370
        },
        {
          "output_type": "display_data",
          "data": {
            "image/png": "[encoded data removed]",
            "text/plain": [
              "<Figure size 432x288 with 1 Axes>"
            ]
          },
          "metadata": {
            "tags": [],
            "needs_background": "light"
          }
        }
      ]
    },
    {
      "cell_type": "code",
      "metadata": {
        "id": "LCUqv6jEyIpo"
      },
      "source": [
        "optimal_policy = funcion_q.argmax(3)\n",
        "opt_policy_df = {}\n",
        "for i in range(0,2):\n",
        "  opt_policy_df[str(i)] = pd.DataFrame(data=optimal_policy[:,:,i], \n",
        "                                       index=range(12,22), \n",
        "                                       columns=['A']+[str(x) for x in range(2,11)])"
      ],
      "execution_count": 371,
      "outputs": []
    },
    {
      "cell_type": "code",
      "metadata": {
        "colab": {
          "base_uri": "https://localhost:8080/",
          "height": 432
        },
        "id": "3rcuBAAgLkOJ",
        "outputId": "e8b69624-7afb-4b72-d4b8-5ed889257f34"
      },
      "source": [
        "fig, ax = plt.subplots(1,2, figsize=(14,7))\n",
        "for i in range(0,2):\n",
        "  sns_ax = sns.heatmap(opt_policy_df[str(i)], ax=ax[i], cmap=sns.color_palette(\"hls\", 2))\n",
        "  sns_ax.invert_yaxis()\n",
        "plt.show()\n",
        "plt.close()"
      ],
      "execution_count": 372,
      "outputs": [
        {
          "output_type": "display_data",
          "data": {
            "image/png": "[encoded data removed]",
            "text/plain": [
              "<Figure size 1008x504 with 4 Axes>"
            ]
          },
          "metadata": {
            "tags": [],
            "needs_background": "light"
          }
        }
      ]
    },
    {
      "cell_type": "code",
      "metadata": {
        "colab": {
          "base_uri": "https://localhost:8080/"
        },
        "id": "3iDczpuS1gK6",
        "outputId": "95cdd43e-98ca-427f-e5e8-8115d7b0ee2d"
      },
      "source": [
        "funcion_q[:,:,0,0]"
      ],
      "execution_count": 281,
      "outputs": [
        {
          "output_type": "execute_result",
          "data": {
            "text/plain": [
              "array([[-0.97164335, -0.69979862, -0.83332564,  0.08834173, -0.56824127,\n",
              "        -0.26727091, -0.85318376, -0.88306913, -0.82300448, -0.92834466],\n",
              "       [-0.98133699, -0.65378024, -0.23657502, -0.71818805, -0.3392799 ,\n",
              "        -0.46090745, -0.70422524, -0.81820548, -0.89243934, -0.83465458],\n",
              "       [-0.92553747, -0.25075409, -0.21915988, -0.2996159 ,  0.01026515,\n",
              "        -0.7840315 , -0.84521497, -0.56176208, -0.72781915, -0.79662418],\n",
              "       [-0.93116808, -0.26303244, -0.75710934, -0.31279451, -0.09533657,\n",
              "        -0.38488989, -0.74468204, -0.86429917, -0.93710631, -0.89091236],\n",
              "       [-0.58907987, -0.29809767,  0.16309352, -0.09515861,  0.05680989,\n",
              "        -0.46691072, -0.82126167, -0.83573104, -0.86567038, -0.9607959 ],\n",
              "       [-0.62697498,  0.00112288, -0.19691566, -0.33015466,  0.0671248 ,\n",
              "         0.12323471,  0.04305173, -0.46807367, -0.58056821, -0.21176521],\n",
              "       [ 0.22743004,  0.28581333,  0.13700684,  0.27107453,  0.5056342 ,\n",
              "         0.50662395,  0.40235462,  0.10998389, -0.45271126, -0.54413677],\n",
              "       [-0.24716285,  0.39005324,  0.57135159,  0.67530816,  0.6569326 ,\n",
              "         0.48705191,  0.58829826,  0.67877124,  0.37458492,  0.01970121],\n",
              "       [ 0.14197785,  0.59519911,  0.78926497,  0.44894586,  0.75679101,\n",
              "         0.64397468,  0.86900333,  0.81929416,  0.81906308,  0.35190234],\n",
              "       [ 0.45352544,  0.82128593,  0.96232259,  0.93385166,  0.81884537,\n",
              "         0.94072587,  0.99965676,  0.81387724,  0.99614569,  0.75390638]])"
            ]
          },
          "metadata": {
            "tags": []
          },
          "execution_count": 281
        }
      ]
    }
  ]
}