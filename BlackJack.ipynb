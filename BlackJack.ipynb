{
  "nbformat": 4,
  "nbformat_minor": 0,
  "metadata": {
    "colab": {
      "name": "BlackJack.ipynb",
      "provenance": [],
      "collapsed_sections": [],
      "authorship_tag": "ABX9TyPtIk2uDBy8WIgs4uvWio1G",
      "include_colab_link": true
    },
    "kernelspec": {
      "name": "python3",
      "display_name": "Python 3"
    }
  },
  "cells": [
    {
      "cell_type": "markdown",
      "metadata": {
        "id": "view-in-github",
        "colab_type": "text"
      },
      "source": [
        "<a href=\"https://colab.research.google.com/github/tarod13/CardGames/blob/main/BlackJack.ipynb\" target=\"_parent\"><img src=\"https://colab.research.google.com/assets/colab-badge.svg\" alt=\"Open In Colab\"/></a>"
      ]
    },
    {
      "cell_type": "code",
      "metadata": {
        "id": "qg_dBN3htlt5"
      },
      "source": [
        "import numpy as np\n",
        "import random"
      ],
      "execution_count": 2,
      "outputs": []
    },
    {
      "cell_type": "code",
      "metadata": {
        "id": "s_Rd3TPN13W-"
      },
      "source": [
        "def number2card(number):\n",
        "  invalid_flag = False\n",
        "  \n",
        "  rank = (number % 13) + 1\n",
        "  if rank < 1 or rank > 13:\n",
        "    invalid_flag = True\n",
        "  elif rank == 1:\n",
        "    rank = 'A'\n",
        "  elif rank == 11:\n",
        "    rank = 'J'\n",
        "  elif rank == 12:\n",
        "    rank = 'Q'\n",
        "  elif rank == 13:\n",
        "    rank = 'K'\n",
        "  else:\n",
        "    rank = str(int(rank))\n",
        "  \n",
        "  symbol = number // 13\n",
        "  if symbol == 0:\n",
        "    symbol = 'clubs'\n",
        "  elif symbol == 1:\n",
        "    symbol = 'diamonds'\n",
        "  elif symbol == 2:\n",
        "    symbol = 'hearts'\n",
        "  elif symbol == 3:\n",
        "    symbol = 'spades'\n",
        "  else:\n",
        "    invalid_flag = True\n",
        "\n",
        "  assert not invalid_flag, 'Invalid number'\n",
        "\n",
        "  return (rank, symbol)\n",
        "\n",
        "\n",
        "def card2value(card):\n",
        "  rank = card[0]\n",
        "  \n",
        "  if rank == 'A':\n",
        "    value = 1    \n",
        "  elif rank in ['J', 'Q', 'K']:\n",
        "    value = 10\n",
        "  elif int(rank) > 1 and int(rank) <= 10:\n",
        "    value = int(rank)\n",
        "  else:\n",
        "    print(rank)\n",
        "    raise NameError('Invalid card')\n",
        "  \n",
        "  return value"
      ],
      "execution_count": 3,
      "outputs": []
    },
    {
      "cell_type": "code",
      "metadata": {
        "id": "yyX3PfvNb3vI"
      },
      "source": [
        "def state2code(state):\n",
        "  n_aces = 0\n",
        "  sum_ = 0\n",
        "  \n",
        "  player_hand, dealer_card = state\n",
        "  \n",
        "  for card in player_hand:  \n",
        "    rank = card[0]\n",
        "    if rank == 'A':\n",
        "      n_aces += 1          \n",
        "    sum_ += card2value(card)\n",
        "  \n",
        "  visible_score_dealer = card2value(dealer_card)\n",
        "  soft_hand = (21 - sum_) >= 10\n",
        "  usable_ace = (n_aces > 0)  and soft_hand\n",
        "  return (sum_, visible_score_dealer, usable_ace)\n",
        "\n",
        "\n",
        "def sample_epsilon_policy(hand_sum, dealer_score, usable_ace, q_function, eps):\n",
        "  q_values = q_function[int(hand_sum-12), int(dealer_score-1), int(usable_ace), :]\n",
        "  if np.random.rand() > eps:\n",
        "    possible_actions = q_values.argmax()\n",
        "    if isinstance(possible_actions, np.int64):\n",
        "      action_id = possible_actions\n",
        "    else:\n",
        "      action_id = random.choice(possible_actions)\n",
        "  else:\n",
        "    action_id = np.random.randint(0, high=N_acciones)\n",
        "  if action_id == 0:\n",
        "    return 'stand'\n",
        "  else:\n",
        "    return 'hit'"
      ],
      "execution_count": 4,
      "outputs": []
    },
    {
      "cell_type": "code",
      "metadata": {
        "id": "SBKV1Apns6KU"
      },
      "source": [
        "class BlackJackEnv():\n",
        "  def __init__(self, seed=0):    \n",
        "    self.seed(seed)\n",
        "    \n",
        "  def step(self, action):\n",
        "    state = [list(self.player_hand).copy(), self.visible_dealer_card]\n",
        "\n",
        "    if action == 0 or action == '0' or action == 'stand':\n",
        "      sum_dealer, n_aces_dealer = self.calculate_sum(who='dealer')\n",
        "      score_dealer = self.calculate_score(sum_dealer, n_aces_dealer)\n",
        "      sum_player, n_aces_player = self.calculate_sum()\n",
        "      score_player = self.calculate_score(sum_player, n_aces_player)\n",
        "      \n",
        "      if (score_player == 21) and (len(self.player_hand) == 2):\n",
        "        if score_dealer == 21:\n",
        "          reward = 0.0\n",
        "        else:\n",
        "          reward = 1.0\n",
        "      else:\n",
        "        while score_dealer < 17:\n",
        "          new_dealer_card = set(random.sample(self.deck, 1))        \n",
        "          self.deck = self.deck - new_dealer_card\n",
        "          self.dealer_hand = self.dealer_hand.union(new_dealer_card)\n",
        "          sum_dealer, n_aces_dealer = self.calculate_sum(who='dealer')\n",
        "          score_dealer = self.calculate_score(sum_dealer, n_aces_dealer)\n",
        "        \n",
        "        dealer_went_bust = score_dealer > 21\n",
        "        player_went_bust = score_player > 21\n",
        "        if player_went_bust:\n",
        "          reward = -1.0\n",
        "        elif dealer_went_bust or (score_player > score_dealer):\n",
        "          reward = 1.0\n",
        "        elif score_player == score_dealer:\n",
        "          reward = 0.0\n",
        "        else:\n",
        "          reward = -1.0\n",
        "        \n",
        "      done = True      \n",
        "\n",
        "    elif action == 1 or action == '1' or action == 'hit':\n",
        "      new_player_card = set(random.sample(self.deck, 1))\n",
        "      self.deck = self.deck - new_player_card\n",
        "      self.player_hand = self.player_hand.union(new_player_card)\n",
        "      sum_player, n_aces_player = self.calculate_sum()\n",
        "      went_bust = sum_player > 21      \n",
        "      if went_bust:\n",
        "        reward = -1.0\n",
        "        done = True        \n",
        "      else:\n",
        "        reward = 0.0\n",
        "        done = False        \n",
        "\n",
        "    else:\n",
        "      raise NameError('Invalid action')\n",
        "    \n",
        "    if done:    \n",
        "      next_state = [list(self.player_hand).copy(), list(self.dealer_hand).copy()]\n",
        "    else:\n",
        "      next_state = [list(self.player_hand).copy(), self.visible_dealer_card]\n",
        "    return state, next_state, reward, done \n",
        "\n",
        "  def seed(self, seed=None):\n",
        "    random.seed(seed)\n",
        "\n",
        "  \n",
        "  def reset(self):\n",
        "    self.deck = set(range(0,52))\n",
        "    self.deck = set([number2card(x) for x in self.deck])\n",
        "\n",
        "    self.player_hand = set(random.sample(self.deck, 2))\n",
        "    self.deck = self.deck - self.player_hand\n",
        "    self.dealer_hand = set(random.sample(self.deck, 2))\n",
        "    self.deck = self.deck - self.dealer_hand\n",
        "\n",
        "    self.visible_dealer_card = list(self.dealer_hand)[0]\n",
        "    state = [list(self.player_hand).copy(), self.visible_dealer_card]\n",
        "    return state\n",
        "\n",
        "\n",
        "  @staticmethod\n",
        "  def calculate_score(sum_no_aces, n_aces):\n",
        "    score = sum_no_aces\n",
        "    soft_hand = (21 - sum_no_aces) >= 10\n",
        "    at_least_one_ace = n_aces > 0\n",
        "    if soft_hand and at_least_one_ace:\n",
        "      score += 10\n",
        "    return score\n",
        "\n",
        "  \n",
        "  def calculate_sum(self, who='player'):\n",
        "    n_aces = 0\n",
        "    sum_ = 0\n",
        "    \n",
        "    if who == 'player':\n",
        "      hand = self.player_hand\n",
        "    else:\n",
        "      hand = self.dealer_hand\n",
        "    \n",
        "    for card in hand:  \n",
        "      rank = card[0]\n",
        "      if rank == 'A':\n",
        "        n_aces += 1          \n",
        "      sum_ += card2value(card)\n",
        "    \n",
        "    return sum_, n_aces"
      ],
      "execution_count": 10,
      "outputs": []
    },
    {
      "cell_type": "code",
      "metadata": {
        "colab": {
          "base_uri": "https://localhost:8080/"
        },
        "id": "ntizeIVw0u-W",
        "outputId": "45169a99-7d8f-45c3-9be6-7af80bc2f3dc"
      },
      "source": [
        "semilla = 0\n",
        "juego = BlackJackEnv(seed=semilla)\n",
        "mano_inicial = juego.reset()\n",
        "print('Mano inicial: ', mano_inicial)\n",
        "m, nm, r, d = juego.step('hit')\n",
        "print('Nueva mano: ', nm)\n",
        "print('Recompensa: ', r)\n",
        "print('Juego terminado: ', d)\n",
        "m, nm, r, d = juego.step('stand')\n",
        "print('Nueva mano: ', nm)\n",
        "print('Recompensa: ', r)\n",
        "print('Juego terminado: ', d)"
      ],
      "execution_count": 11,
      "outputs": [
        {
          "output_type": "stream",
          "text": [
            "Mano inicial:  [[('8', 'clubs'), ('K', 'diamonds')], ('A', 'spades')]\n",
            "Nueva mano:  [[('8', 'clubs'), ('K', 'diamonds'), ('9', 'diamonds')], [('A', 'spades'), ('9', 'clubs')]]\n",
            "Recompensa:  -1.0\n",
            "Juego terminado:  True\n",
            "Nueva mano:  [[('8', 'clubs'), ('K', 'diamonds'), ('9', 'diamonds')], [('A', 'spades'), ('9', 'clubs')]]\n",
            "Recompensa:  -1.0\n",
            "Juego terminado:  True\n"
          ],
          "name": "stdout"
        }
      ]
    },
    {
      "cell_type": "code",
      "metadata": {
        "id": "ngGgrpHE3w-m"
      },
      "source": [
        "def entrenar_agente(funcion_q, juego, n_episodios, \n",
        "                    imprimir=False, imprimir_cada_ep=5000, inicializar=False):\n",
        "  if inicializar:\n",
        "    n_visitas = np.zeros((10,10,2,2))\n",
        "    \n",
        "  for episodio in range(0, n_episodios):\n",
        "    terminado = False    \n",
        "    trayectoria = []\n",
        "    estado = juego.reset()\n",
        "\n",
        "    while not terminado:\n",
        "      suma_mano, puntaje_dealer, usable_ace = state2code(estado)\n",
        "      if suma_mano < 12:\n",
        "        accion = 'hit'\n",
        "      else:\n",
        "        if inicializar:\n",
        "          if suma_mano < 20:\n",
        "            accion = 'hit'\n",
        "          else:\n",
        "            accion = 'stand'\n",
        "        else:  \n",
        "          accion = sample_epsilon_policy(suma_mano, puntaje_dealer, usable_ace, funcion_q, eps=epsilon)\n",
        "      _, siguiente_estado, recompensa, terminado = juego.step(accion)\n",
        "\n",
        "      estado = siguiente_estado.copy()  \n",
        "      trayectoria.append([suma_mano, puntaje_dealer, usable_ace, accion, recompensa, terminado])\n",
        "\n",
        "    retorno = 0\n",
        "    for i in range(0,len(trayectoria)):\n",
        "      suma_mano, puntaje_dealer, usable_ace, accion, recompensa, terminado = trayectoria.pop()\n",
        "      retorno = recompensa + beta * retorno\n",
        "\n",
        "      if suma_mano >= 12:\n",
        "        # Indices del estado\n",
        "        s_0 = int(suma_mano-12)\n",
        "        s_1 = int(puntaje_dealer-1)\n",
        "        s_2 = int(usable_ace)\n",
        "\n",
        "        # Indice de la accion\n",
        "        if accion == 'hit':\n",
        "          a = 1\n",
        "        else:\n",
        "          a = 0\n",
        "        \n",
        "        if inicializar:\n",
        "          # Numero de veces que ha sido visitada la pareja estado-acccion ((s0,s1,s2), a) \n",
        "          n = n_visitas[s_0, s_1, s_2, a] + 1\n",
        "\n",
        "          # Se actualiza el número de visitas\n",
        "          n_visitas[s_0, s_1, s_2, a] = n\n",
        "          coef = 1/n\n",
        "        else:\n",
        "          coef = alpha\n",
        "        \n",
        "        # Se actualiza la funcion de valor\n",
        "        funcion_q[s_0, s_1, s_2, a] += coef * (retorno - funcion_q[s_0, s_1, s_2, a]) \n",
        "    \n",
        "    if imprimir and ((episodio+1) % imprimir_cada_ep) == 0:\n",
        "      print('Episodio: ' + str(episodio+1))"
      ],
      "execution_count": 12,
      "outputs": []
    },
    {
      "cell_type": "code",
      "metadata": {
        "id": "Mky7SPkAyXJX"
      },
      "source": [
        "def evaluar_agente(funcion_q, juego, n_episodios, imprimir=False, ciclo=0):\n",
        "  retornos = []\n",
        "  for episodio in range(0, n_episodios):\n",
        "    terminado = False\n",
        "    retorno = 0\n",
        "    estado = juego.reset()\n",
        "\n",
        "    paso = 0\n",
        "    while not terminado:\n",
        "      suma_mano, puntaje_dealer, usable_ace = state2code(estado)\n",
        "      if suma_mano < 12:\n",
        "        accion = 'hit'\n",
        "      else:\n",
        "        accion = sample_epsilon_policy(suma_mano, puntaje_dealer, usable_ace, funcion_q, eps=epsilon)\n",
        "      _, siguiente_estado, recompensa, terminado = juego.step(accion)\n",
        "      retorno = retorno + (beta**paso) * recompensa\n",
        "      estado = siguiente_estado.copy()\n",
        "      paso += 1  \n",
        "      \n",
        "    retornos.append(retorno)\n",
        "  retornos = np.array(retornos)\n",
        "  retorno_promedio = retornos.mean()\n",
        "  desviacion_retorno = retornos.std()\n",
        "  if imprimir:\n",
        "    print(('Ciclo: ' + str(ciclo) + ', Retorno esperado: {:.3f}'.format(\n",
        "        retorno_promedio) + u\"\\u00B1\" + '{:.3f}'.format(desviacion_retorno)))\n",
        "  \n",
        "  return retorno_promedio, desviacion_retorno"
      ],
      "execution_count": 13,
      "outputs": []
    },
    {
      "cell_type": "code",
      "metadata": {
        "id": "7_D6dKPGVPKC"
      },
      "source": [
        "N_episodios_train = 5000\n",
        "N_episodios_eval = 1000\n",
        "N_ciclos = 1000\n",
        "N_acciones = 2\n",
        "epsilon = 1.0\n",
        "min_epsilon = 0.05\n",
        "decay_eps = 0.998\n",
        "beta = 1.0\n",
        "alpha = 0.001\n",
        "imprimir_cada = 50\n",
        "\n",
        "juego = BlackJackEnv(seed=semilla)\n",
        "funcion_q = np.zeros((10,10,2,2))\n",
        "np.random.seed(semilla)"
      ],
      "execution_count": 23,
      "outputs": []
    },
    {
      "cell_type": "code",
      "metadata": {
        "colab": {
          "base_uri": "https://localhost:8080/"
        },
        "id": "HxrzLvzCaSa3",
        "outputId": "7a25aa3c-c1a6-4a51-acf2-ef9a5d54f88f"
      },
      "source": [
        "# Gs = []\n",
        "# sigmaGs = []\n",
        "for ciclo in range(0, N_ciclos):\n",
        "  entrenar_agente(funcion_q, juego, N_episodios_train)\n",
        "  G, sigmaG = evaluar_agente(funcion_q, juego, N_episodios_eval,\n",
        "                             imprimir=(ciclo % imprimir_cada) == 0, ciclo=ciclo+1)\n",
        "  Gs.append(G)\n",
        "  sigmaGs.append(sigmaG)\n",
        "  epsilon = max(0.01, epsilon * decay_eps)"
      ],
      "execution_count": 29,
      "outputs": [
        {
          "output_type": "stream",
          "text": [
            "Ciclo: 1, Retorno esperado: -0.182±0.942\n",
            "Ciclo: 51, Retorno esperado: -0.171±0.945\n",
            "Ciclo: 101, Retorno esperado: -0.195±0.943\n",
            "Ciclo: 151, Retorno esperado: -0.162±0.947\n",
            "Ciclo: 201, Retorno esperado: -0.107±0.952\n",
            "Ciclo: 251, Retorno esperado: -0.162±0.947\n",
            "Ciclo: 301, Retorno esperado: -0.155±0.945\n",
            "Ciclo: 351, Retorno esperado: -0.141±0.955\n",
            "Ciclo: 401, Retorno esperado: -0.128±0.945\n",
            "Ciclo: 451, Retorno esperado: -0.085±0.959\n",
            "Ciclo: 501, Retorno esperado: -0.110±0.938\n",
            "Ciclo: 551, Retorno esperado: -0.158±0.948\n",
            "Ciclo: 601, Retorno esperado: -0.156±0.943\n",
            "Ciclo: 651, Retorno esperado: -0.102±0.952\n",
            "Ciclo: 701, Retorno esperado: -0.131±0.952\n",
            "Ciclo: 751, Retorno esperado: -0.131±0.954\n",
            "Ciclo: 801, Retorno esperado: -0.122±0.947\n",
            "Ciclo: 851, Retorno esperado: -0.129±0.944\n",
            "Ciclo: 901, Retorno esperado: -0.182±0.939\n",
            "Ciclo: 951, Retorno esperado: -0.109±0.958\n"
          ],
          "name": "stdout"
        }
      ]
    },
    {
      "cell_type": "code",
      "metadata": {
        "id": "JASkuFq2BOIq"
      },
      "source": [
        "import pickle"
      ],
      "execution_count": 368,
      "outputs": []
    },
    {
      "cell_type": "code",
      "metadata": {
        "id": "tO2I37vEBSbh"
      },
      "source": [
        "pickle.dump(funcion_q, open('q.pt', 'wb'))"
      ],
      "execution_count": 369,
      "outputs": []
    },
    {
      "cell_type": "code",
      "metadata": {
        "id": "bKx4iC9wKzyR"
      },
      "source": [
        "import matplotlib.pyplot as plt\n",
        "import pandas as pd\n",
        "import seaborn as sns"
      ],
      "execution_count": 25,
      "outputs": []
    },
    {
      "cell_type": "code",
      "metadata": {
        "colab": {
          "base_uri": "https://localhost:8080/",
          "height": 283
        },
        "id": "6MWgMc8eK5x1",
        "outputId": "abba82d2-5ada-46ab-ec2d-b936b9d6468c"
      },
      "source": [
        "plt.plot(np.array(Gs))"
      ],
      "execution_count": 26,
      "outputs": [
        {
          "output_type": "execute_result",
          "data": {
            "text/plain": [
              "[<matplotlib.lines.Line2D at 0x7f17696b7a20>]"
            ]
          },
          "metadata": {
            "tags": []
          },
          "execution_count": 26
        },
        {
          "output_type": "display_data",
          "data": {
            "image/png": "[encoded data removed]",
            "text/plain": [
              "<Figure size 432x288 with 1 Axes>"
            ]
          },
          "metadata": {
            "tags": [],
            "needs_background": "light"
          }
        }
      ]
    },
    {
      "cell_type": "code",
      "metadata": {
        "id": "LCUqv6jEyIpo"
      },
      "source": [
        "optimal_policy = funcion_q.argmax(3)\n",
        "opt_policy_df = {}\n",
        "for i in range(0,2):\n",
        "  opt_policy_df[str(i)] = pd.DataFrame(data=optimal_policy[:,:,i], \n",
        "                                       index=range(12,22), \n",
        "                                       columns=['A']+[str(x) for x in range(2,11)])"
      ],
      "execution_count": 27,
      "outputs": []
    },
    {
      "cell_type": "code",
      "metadata": {
        "colab": {
          "base_uri": "https://localhost:8080/",
          "height": 432
        },
        "id": "3rcuBAAgLkOJ",
        "outputId": "87807873-2218-4047-b660-2ceb7956a7a4"
      },
      "source": [
        "fig, ax = plt.subplots(1,2, figsize=(14,7))\n",
        "for i in range(0,2):\n",
        "  sns_ax = sns.heatmap(opt_policy_df[str(i)], ax=ax[i], cmap=sns.color_palette(\"hls\", 2))\n",
        "  sns_ax.invert_yaxis()\n",
        "plt.show()\n",
        "plt.close()"
      ],
      "execution_count": 28,
      "outputs": [
        {
          "output_type": "display_data",
          "data": {
            "image/png": "[encoded data removed]",
            "text/plain": [
              "<Figure size 1008x504 with 4 Axes>"
            ]
          },
          "metadata": {
            "tags": [],
            "needs_background": "light"
          }
        }
      ]
    },
    {
      "cell_type": "code",
      "metadata": {
        "colab": {
          "base_uri": "https://localhost:8080/"
        },
        "id": "3iDczpuS1gK6",
        "outputId": "9307be46-5015-4463-cff1-7570b6d96fb9"
      },
      "source": [
        "mano_inicial = juego.reset()\n",
        "print('Mano inicial: ', mano_inicial)"
      ],
      "execution_count": 498,
      "outputs": [
        {
          "output_type": "stream",
          "text": [
            "Mano inicial:  [[('A', 'spades'), ('Q', 'spades')], ('2', 'hearts')]\n"
          ],
          "name": "stdout"
        }
      ]
    },
    {
      "cell_type": "code",
      "metadata": {
        "colab": {
          "base_uri": "https://localhost:8080/"
        },
        "id": "htztU_iuDEUl",
        "outputId": "cd352fe6-5aca-4e03-88b9-af21b2620daa"
      },
      "source": [
        "m, nm, r, d = juego.step('hit')\n",
        "print('Nueva mano: ', nm)\n",
        "print('Recompensa: ', r)\n",
        "print('Juego terminado: ', d)"
      ],
      "execution_count": 497,
      "outputs": [
        {
          "output_type": "stream",
          "text": [
            "Nueva mano:  [[('K', 'hearts'), ('A', 'diamonds'), ('K', 'diamonds'), ('3', 'diamonds')], [('J', 'spades'), ('10', 'diamonds')]]\n",
            "Recompensa:  -1\n",
            "Juego terminado:  True\n"
          ],
          "name": "stdout"
        }
      ]
    },
    {
      "cell_type": "code",
      "metadata": {
        "colab": {
          "base_uri": "https://localhost:8080/"
        },
        "id": "m3DPA7sUHXTL",
        "outputId": "c12449b2-6fb2-45af-84cd-1fbd4dd1e2fe"
      },
      "source": [
        "m, nm, r, d = juego.step('stand')\n",
        "print('Nueva mano: ', nm)\n",
        "print('Recompensa: ', r)\n",
        "print('Juego terminado: ', d)"
      ],
      "execution_count": 499,
      "outputs": [
        {
          "output_type": "stream",
          "text": [
            "Nueva mano:  [[('A', 'spades'), ('Q', 'spades')], [('2', 'hearts'), ('9', 'diamonds')]]\n",
            "Recompensa:  1.0\n",
            "Juego terminado:  True\n"
          ],
          "name": "stdout"
        }
      ]
    },
    {
      "cell_type": "code",
      "metadata": {
        "id": "yWsb_46-FONn"
      },
      "source": [
        "su, ac = juego.calculate_sum(who='dealer')\n",
        "sc = juego.calculate_score(su, ac)\n",
        "less_than_17 = (su + int(ac>0) * 10) < 17   \n",
        "more_than_21 = su > 21"
      ],
      "execution_count": 394,
      "outputs": []
    },
    {
      "cell_type": "code",
      "metadata": {
        "colab": {
          "base_uri": "https://localhost:8080/"
        },
        "id": "xzz3noNsFYOE",
        "outputId": "252022d7-fa1f-4b09-eb58-004512ff8ae9"
      },
      "source": [
        "funcion_q[:,:,0,0]-funcion_q[:,:,1,0]"
      ],
      "execution_count": 511,
      "outputs": [
        {
          "output_type": "execute_result",
          "data": {
            "text/plain": [
              "array([[-8.86713824e-02, -1.04372180e-02, -8.34972633e-02,\n",
              "        -4.40266695e-02, -1.66233417e-02, -5.40176283e-02,\n",
              "        -5.20206100e-02, -1.78959566e-02, -6.85023536e-02,\n",
              "        -2.82116243e-02],\n",
              "       [ 3.49876450e-02,  6.56085157e-02, -9.83260860e-03,\n",
              "         2.12900566e-02,  5.34033343e-02, -3.45694850e-02,\n",
              "        -1.25225584e-02,  2.72008511e-02, -1.91833655e-02,\n",
              "        -4.18643381e-02],\n",
              "       [-9.94469849e-02, -7.43889114e-02,  1.53453839e-02,\n",
              "        -7.71145128e-02, -1.03035235e-02, -5.06059409e-02,\n",
              "        -3.22818734e-02,  1.37128310e-02, -2.41797616e-02,\n",
              "        -2.07221346e-02],\n",
              "       [-1.67877121e-02, -4.53433673e-03, -1.37473902e-01,\n",
              "         1.24656746e-02, -3.24703449e-02, -6.53492479e-02,\n",
              "        -3.85450575e-02, -1.53938814e-02, -9.28702839e-02,\n",
              "        -3.83896376e-02],\n",
              "       [-1.34070816e-02,  2.25376660e-02, -2.51610546e-03,\n",
              "        -6.42298649e-03, -9.14873573e-02, -3.63090796e-02,\n",
              "         3.02959367e-02, -9.42255212e-02,  4.60149380e-05,\n",
              "         1.80354061e-02],\n",
              "       [ 2.75325823e-02, -1.01133045e-01, -3.46024178e-02,\n",
              "         9.82232386e-03,  5.38316977e-02, -1.09847962e-02,\n",
              "         2.95704952e-02, -2.63827804e-02, -6.60018961e-02,\n",
              "        -8.08659842e-02],\n",
              "       [-6.46938144e-02, -9.31827098e-03,  2.74365345e-02,\n",
              "        -1.59465347e-02,  2.19544674e-02, -1.85759580e-02,\n",
              "         1.02318677e-03, -7.77842402e-03, -5.51982799e-02,\n",
              "        -1.84802081e-03],\n",
              "       [ 1.91318810e-02,  1.46374700e-03,  2.17414700e-02,\n",
              "         3.30869743e-02,  2.86340439e-02,  4.14728905e-02,\n",
              "         4.20238343e-02,  1.36241471e-02, -3.70436332e-02,\n",
              "        -1.82473654e-02],\n",
              "       [-1.06443418e-03, -4.23221125e-02, -5.57527460e-02,\n",
              "        -5.57414244e-03, -2.33861780e-02,  2.30562433e-03,\n",
              "        -3.22693274e-02, -6.16844843e-03, -3.32099018e-02,\n",
              "        -5.39219066e-02],\n",
              "       [ 1.13719957e-02, -1.23175199e-02, -1.14370286e-02,\n",
              "         3.12719741e-03, -6.39065294e-03,  3.18200838e-02,\n",
              "         2.58870767e-03,  2.11772459e-02,  1.88280258e-02,\n",
              "        -3.53228563e-02]])"
            ]
          },
          "metadata": {
            "tags": []
          },
          "execution_count": 511
        }
      ]
    }
  ]
}