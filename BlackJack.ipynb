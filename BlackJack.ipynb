{
  "nbformat": 4,
  "nbformat_minor": 0,
  "metadata": {
    "colab": {
      "name": "BlackJack.ipynb",
      "provenance": [],
      "collapsed_sections": [],
      "authorship_tag": "ABX9TyNvdy7+cPmXXDYuG5EArhvQ",
      "include_colab_link": true
    },
    "kernelspec": {
      "name": "python3",
      "display_name": "Python 3"
    }
  },
  "cells": [
    {
      "cell_type": "markdown",
      "metadata": {
        "id": "view-in-github",
        "colab_type": "text"
      },
      "source": [
        "<a href=\"https://colab.research.google.com/github/tarod13/CardGames/blob/main/BlackJack.ipynb\" target=\"_parent\"><img src=\"https://colab.research.google.com/assets/colab-badge.svg\" alt=\"Open In Colab\"/></a>"
      ]
    },
    {
      "cell_type": "code",
      "metadata": {
        "id": "qg_dBN3htlt5"
      },
      "source": [
        "import numpy as np\n",
        "import random\n",
        "\n",
        "import matplotlib.pyplot as plt\n",
        "import pandas as pd\n",
        "import seaborn as sns"
      ],
      "execution_count": 2,
      "outputs": []
    },
    {
      "cell_type": "code",
      "metadata": {
        "id": "s_Rd3TPN13W-"
      },
      "source": [
        "def number2card(number):\n",
        "  invalid_flag = False\n",
        "  \n",
        "  rank = (number % 13) + 1\n",
        "  if rank < 1 or rank > 13:\n",
        "    invalid_flag = True\n",
        "  elif rank == 1:\n",
        "    rank = 'A'\n",
        "  elif rank == 11:\n",
        "    rank = 'J'\n",
        "  elif rank == 12:\n",
        "    rank = 'Q'\n",
        "  elif rank == 13:\n",
        "    rank = 'K'\n",
        "  else:\n",
        "    rank = str(int(rank))\n",
        "  \n",
        "  symbol = number // 13\n",
        "  if symbol == 0:\n",
        "    symbol = 'clubs'\n",
        "  elif symbol == 1:\n",
        "    symbol = 'diamonds'\n",
        "  elif symbol == 2:\n",
        "    symbol = 'hearts'\n",
        "  elif symbol == 3:\n",
        "    symbol = 'spades'\n",
        "  else:\n",
        "    invalid_flag = True\n",
        "\n",
        "  assert not invalid_flag, 'Invalid number'\n",
        "\n",
        "  return (rank, symbol)\n",
        "\n",
        "\n",
        "def card2value(card):\n",
        "  rank = card[0]\n",
        "  \n",
        "  if rank == 'A':\n",
        "    value = 1    \n",
        "  elif rank in ['J', 'Q', 'K']:\n",
        "    value = 10\n",
        "  elif int(rank) > 1 and int(rank) <= 10:\n",
        "    value = int(rank)\n",
        "  else:\n",
        "    print(rank)\n",
        "    raise NameError('Invalid card')\n",
        "  \n",
        "  return value"
      ],
      "execution_count": 3,
      "outputs": []
    },
    {
      "cell_type": "code",
      "metadata": {
        "id": "yyX3PfvNb3vI"
      },
      "source": [
        "def state2code(state):\n",
        "  n_aces = 0\n",
        "  sum_ = 0\n",
        "  \n",
        "  player_hand, dealer_card = state\n",
        "  \n",
        "  for card in player_hand:  \n",
        "    rank = card[0]\n",
        "    if rank == 'A':\n",
        "      n_aces += 1          \n",
        "    sum_ += card2value(card)\n",
        "  \n",
        "  visible_score_dealer = card2value(dealer_card)\n",
        "  soft_hand = (21 - sum_) >= 10\n",
        "  usable_ace = (n_aces > 0)  and soft_hand\n",
        "  return (sum_, visible_score_dealer, usable_ace)\n",
        "\n",
        "\n",
        "def sample_epsilon_policy(hand_sum, dealer_score, usable_ace, q_function, eps):\n",
        "  q_values = q_function[int(hand_sum-12), int(dealer_score-1), int(usable_ace), :]\n",
        "  if np.random.rand() > eps:\n",
        "    possible_actions = q_values.argmax()\n",
        "    if isinstance(possible_actions, np.int64):\n",
        "      action_id = possible_actions\n",
        "    else:\n",
        "      action_id = random.choice(possible_actions)\n",
        "  else:\n",
        "    action_id = np.random.randint(0, high=N_acciones)\n",
        "  if action_id == 0:\n",
        "    return 'stand'\n",
        "  else:\n",
        "    return 'hit'"
      ],
      "execution_count": 4,
      "outputs": []
    },
    {
      "cell_type": "code",
      "metadata": {
        "id": "SBKV1Apns6KU"
      },
      "source": [
        "class BlackJackEnv():\n",
        "  def __init__(self, seed=0):    \n",
        "    self.seed(seed)\n",
        "    \n",
        "  def step(self, action):\n",
        "    state = [list(self.player_hand).copy(), self.visible_dealer_card]\n",
        "\n",
        "    if action == 0 or action == '0' or action == 'stand':\n",
        "      sum_dealer, n_aces_dealer = self.calculate_sum(who='dealer')\n",
        "      score_dealer = self.calculate_score(sum_dealer, n_aces_dealer)\n",
        "      sum_player, n_aces_player = self.calculate_sum()\n",
        "      score_player = self.calculate_score(sum_player, n_aces_player)\n",
        "      \n",
        "      if (score_player == 21) and (len(self.player_hand) == 2):\n",
        "        if score_dealer == 21:\n",
        "          reward = 0.0\n",
        "        else:\n",
        "          reward = 1.0\n",
        "      else:\n",
        "        while score_dealer < 17:\n",
        "          new_dealer_card = set(random.sample(self.deck, 1))        \n",
        "          self.deck = self.deck.difference(new_dealer_card)\n",
        "          self.dealer_hand = self.dealer_hand.union(new_dealer_card)\n",
        "          sum_dealer, n_aces_dealer = self.calculate_sum(who='dealer')\n",
        "          score_dealer = self.calculate_score(sum_dealer, n_aces_dealer)\n",
        "        \n",
        "        dealer_went_bust = score_dealer > 21\n",
        "        player_went_bust = score_player > 21\n",
        "        if player_went_bust:\n",
        "          reward = -1.0\n",
        "        elif dealer_went_bust or (score_player > score_dealer):\n",
        "          reward = 1.0\n",
        "        elif score_player == score_dealer:\n",
        "          reward = 0.0\n",
        "        else:\n",
        "          reward = -1.0\n",
        "        \n",
        "      done = True      \n",
        "\n",
        "    elif action == 1 or action == '1' or action == 'hit':\n",
        "      new_player_card = set(random.sample(self.deck, 1))\n",
        "      self.deck = self.deck.difference(new_player_card)\n",
        "      self.player_hand = self.player_hand.union(new_player_card)\n",
        "      sum_player, n_aces_player = self.calculate_sum()\n",
        "      went_bust = sum_player > 21      \n",
        "      if went_bust:\n",
        "        reward = -1.0\n",
        "        done = True        \n",
        "      else:\n",
        "        reward = 0.0\n",
        "        done = False        \n",
        "\n",
        "    else:\n",
        "      raise NameError('Invalid action')\n",
        "    \n",
        "    if done:    \n",
        "      next_state = [list(self.player_hand).copy(), list(self.dealer_hand).copy()]\n",
        "    else:\n",
        "      next_state = [list(self.player_hand).copy(), self.visible_dealer_card]\n",
        "    return state, next_state, reward, done \n",
        "\n",
        "  def seed(self, seed=None):\n",
        "    random.seed(seed)\n",
        "\n",
        "  \n",
        "  def reset(self):\n",
        "    self.deck = set(range(0,52))\n",
        "    self.deck = set([number2card(x) for x in self.deck])\n",
        "\n",
        "    self.player_hand = set(random.sample(self.deck, 2))\n",
        "    self.deck = self.deck.difference(self.player_hand)\n",
        "    self.dealer_hand = set(random.sample(self.deck, 2))\n",
        "    self.deck = self.deck.difference(self.dealer_hand)\n",
        "\n",
        "    self.visible_dealer_card = set(random.sample(self.dealer_hand, 1)).pop()\n",
        "    state = [list(self.player_hand).copy(), self.visible_dealer_card]\n",
        "    return state\n",
        "\n",
        "\n",
        "  @staticmethod\n",
        "  def calculate_score(sum_no_aces, n_aces):\n",
        "    score = sum_no_aces\n",
        "    soft_hand = (21 - sum_no_aces) >= 10\n",
        "    at_least_one_ace = n_aces > 0\n",
        "    if soft_hand and at_least_one_ace:\n",
        "      score += 10\n",
        "    return score\n",
        "\n",
        "  \n",
        "  def calculate_sum(self, who='player'):\n",
        "    n_aces = 0\n",
        "    sum_ = 0\n",
        "    \n",
        "    if who == 'player':\n",
        "      hand = self.player_hand\n",
        "    else:\n",
        "      hand = self.dealer_hand\n",
        "    \n",
        "    for card in hand:  \n",
        "      rank = card[0]\n",
        "      if rank == 'A':\n",
        "        n_aces += 1          \n",
        "      sum_ += card2value(card)\n",
        "    \n",
        "    return sum_, n_aces"
      ],
      "execution_count": 5,
      "outputs": []
    },
    {
      "cell_type": "code",
      "metadata": {
        "colab": {
          "base_uri": "https://localhost:8080/"
        },
        "id": "ntizeIVw0u-W",
        "outputId": "8d505732-6ee9-4e98-e8b0-481a78d225ef"
      },
      "source": [
        "semilla = 0\n",
        "juego = BlackJackEnv(seed=semilla)\n",
        "mano_inicial = juego.reset()\n",
        "print('Mano inicial: ', mano_inicial)\n",
        "m, nm, r, d = juego.step('hit')\n",
        "print('Nueva mano: ', nm)\n",
        "print('Recompensa: ', r)\n",
        "print('Juego terminado: ', d)\n",
        "m, nm, r, d = juego.step('stand')\n",
        "print('Nueva mano: ', nm)\n",
        "print('Recompensa: ', r)\n",
        "print('Juego terminado: ', d)"
      ],
      "execution_count": 6,
      "outputs": [
        {
          "output_type": "stream",
          "text": [
            "Mano inicial:  [[('A', 'diamonds'), ('J', 'clubs')], ('7', 'diamonds')]\n",
            "Nueva mano:  [[('7', 'spades'), ('A', 'diamonds'), ('J', 'clubs')], ('7', 'diamonds')]\n",
            "Recompensa:  0.0\n",
            "Juego terminado:  False\n",
            "Nueva mano:  [[('7', 'spades'), ('A', 'diamonds'), ('J', 'clubs')], [('10', 'hearts'), ('7', 'diamonds')]]\n",
            "Recompensa:  1.0\n",
            "Juego terminado:  True\n"
          ],
          "name": "stdout"
        }
      ]
    },
    {
      "cell_type": "code",
      "metadata": {
        "id": "ngGgrpHE3w-m"
      },
      "source": [
        "def entrenar_agente(funcion_q, juego, factores_exploracion, n_episodios, n_visitas,\n",
        "                    imprimir=False, imprimir_cada_ep=5000):\n",
        "  \n",
        "  for episodio in range(0, n_episodios):\n",
        "    terminado = False    \n",
        "    trayectoria = []\n",
        "    estado = juego.reset()\n",
        "\n",
        "    while not terminado:\n",
        "      suma_mano, puntaje_dealer, az_utilizable = state2code(estado)\n",
        "      puntaje = suma_mano + 10*az_utilizable      \n",
        "      if puntaje < 12:\n",
        "        s_0 = s_1 = s_2 = None\n",
        "        accion = 'hit'\n",
        "      else:\n",
        "        # Indices del estado\n",
        "        s_0 = int(puntaje-12)\n",
        "        s_1 = int(puntaje_dealer-1)\n",
        "        s_2 = int(az_utilizable)\n",
        "        # eps = factores_exploracion[s_0,s_1,s_2]        \n",
        "        accion = sample_epsilon_policy(suma_mano, puntaje_dealer, az_utilizable, funcion_q, eps=epsilon)\n",
        "      \n",
        "      # El agente toma una accion\n",
        "      _, siguiente_estado, recompensa, terminado = juego.step(accion)\n",
        "\n",
        "      estado = siguiente_estado.copy()  \n",
        "      trayectoria.append([s_0, s_1, s_2, accion, recompensa, terminado])\n",
        "\n",
        "    retorno = 0\n",
        "    for i in range(0,len(trayectoria)):\n",
        "      s_0, s_1, s_2, accion, recompensa, terminado = trayectoria.pop()\n",
        "      retorno = recompensa + beta * retorno\n",
        "\n",
        "      if s_0 is not None:        \n",
        "        # Indice de la accion\n",
        "        if accion == 'hit':\n",
        "          a = 1\n",
        "        else:\n",
        "          a = 0        \n",
        "        \n",
        "        # Se actualiza el número de veces que ha sido visitada la pareja estado-acccion ((s0,s1,s2), a)\n",
        "        n_visitas[s_0, s_1, s_2, a] += 1\n",
        "                \n",
        "        # Se actualiza la funcion de valor\n",
        "        funcion_q[s_0, s_1, s_2, a] += alpha * (retorno - funcion_q[s_0, s_1, s_2, a]) \n",
        "\n",
        "        # Se actualiza el factor de exploracion\n",
        "        eps = factores_exploracion[s_0,s_1,s_2]\n",
        "        factores_exploracion[s_0,s_1,s_2] = max(min_epsilon, eps * decaimiento_epsilon)\n",
        "    \n",
        "    if imprimir and ((episodio+1) % imprimir_cada_ep) == 0:\n",
        "      print('Episodio: ' + str(episodio+1))"
      ],
      "execution_count": 8,
      "outputs": []
    },
    {
      "cell_type": "code",
      "metadata": {
        "id": "Mky7SPkAyXJX"
      },
      "source": [
        "def evaluar_agente(funcion_q, juego, n_episodios, eps, imprimir=False, ciclo=0):\n",
        "  retornos = []\n",
        "  for episodio in range(0, n_episodios):\n",
        "    terminado = False\n",
        "    retorno = 0\n",
        "    estado = juego.reset()\n",
        "\n",
        "    paso = 0\n",
        "    while not terminado:\n",
        "      suma_mano, puntaje_dealer, az_utilizable = state2code(estado)\n",
        "      puntaje = suma_mano + 10*az_utilizable\n",
        "      if puntaje < 12:\n",
        "        accion = 'hit'\n",
        "      else:\n",
        "        accion = sample_epsilon_policy(suma_mano, puntaje_dealer, az_utilizable, funcion_q, eps)\n",
        "      _, siguiente_estado, recompensa, terminado = juego.step(accion)\n",
        "      retorno = retorno + (beta**paso) * recompensa\n",
        "      estado = siguiente_estado.copy()\n",
        "      paso += 1  \n",
        "      \n",
        "    retornos.append(retorno)\n",
        "  retornos = np.array(retornos)\n",
        "  retorno_promedio = retornos.mean()\n",
        "  desviacion_retorno = retornos.std()\n",
        "  if imprimir:\n",
        "    print(('Ciclo: ' + str(ciclo) + ', Retorno esperado: {:.3f}'.format(\n",
        "        retorno_promedio) + u\"\\u00B1\" + '{:.3f}'.format(desviacion_retorno)))\n",
        "  \n",
        "  return retorno_promedio, desviacion_retorno"
      ],
      "execution_count": 9,
      "outputs": []
    },
    {
      "cell_type": "code",
      "metadata": {
        "id": "7_D6dKPGVPKC"
      },
      "source": [
        "N_episodios_train = 10000\n",
        "N_episodios_eval = 10000\n",
        "N_ciclos = 400\n",
        "N_acciones = 2\n",
        "epsilon = 1.0\n",
        "min_epsilon = 0.01\n",
        "# decaimiento_epsilon = 1.0-1e-3\n",
        "decaimiento_epsilon = 0.98\n",
        "beta = 1.0\n",
        "alpha = 0.001\n",
        "imprimir_cada = 40\n",
        "\n",
        "juego = BlackJackEnv(seed=semilla)\n",
        "funcion_q = np.zeros((10,10,2,2))\n",
        "n_visitas = np.zeros((10,10,2,2))\n",
        "factores_exploracion = epsilon*np.ones((10,10,2))\n",
        "np.random.seed(semilla)\n",
        "G_promedios = []\n",
        "G_desviaciones = []"
      ],
      "execution_count": 19,
      "outputs": []
    },
    {
      "cell_type": "code",
      "metadata": {
        "colab": {
          "base_uri": "https://localhost:8080/"
        },
        "id": "HxrzLvzCaSa3",
        "outputId": "f7799162-b49e-4602-dc4d-8eb37d04730f"
      },
      "source": [
        "for ciclo in range(0, N_ciclos):\n",
        "  entrenar_agente(funcion_q, juego, factores_exploracion, N_episodios_train, n_visitas)\n",
        "  G_promedio, G_desviacion = evaluar_agente(funcion_q, juego, N_episodios_eval, epsilon,\n",
        "                             imprimir=(ciclo % imprimir_cada) == 0, ciclo=ciclo+1)\n",
        "  G_promedios.append(G_promedio)\n",
        "  G_desviaciones.append(G_desviacion)\n",
        "  epsilon = max(min_epsilon, epsilon * decaimiento_epsilon)"
      ],
      "execution_count": 27,
      "outputs": [
        {
          "output_type": "stream",
          "text": [
            "Ciclo: 1, Retorno esperado: -0.044±0.951\n",
            "Ciclo: 41, Retorno esperado: -0.034±0.953\n",
            "Ciclo: 81, Retorno esperado: -0.052±0.955\n",
            "Ciclo: 121, Retorno esperado: -0.050±0.953\n",
            "Ciclo: 161, Retorno esperado: -0.035±0.954\n",
            "Ciclo: 201, Retorno esperado: -0.038±0.953\n",
            "Ciclo: 241, Retorno esperado: -0.042±0.956\n",
            "Ciclo: 281, Retorno esperado: -0.042±0.954\n",
            "Ciclo: 321, Retorno esperado: -0.041±0.954\n",
            "Ciclo: 361, Retorno esperado: -0.044±0.956\n"
          ],
          "name": "stdout"
        }
      ]
    },
    {
      "cell_type": "code",
      "metadata": {
        "colab": {
          "base_uri": "https://localhost:8080/"
        },
        "id": "VhCMSLcRATqc",
        "outputId": "e6d6c5bd-7c4f-4310-9eef-c4be8c472dcb"
      },
      "source": [
        "retorno_promedio_final, desviacion_retorno_final = evaluar_agente(funcion_q, juego, int(1e6), 0.0)\n",
        "print(('Retorno esperado: {:.3f}'.format(retorno_promedio_final) + \n",
        "       u\"\\u00B1\" + '{:.3f}'.format(desviacion_retorno_final)))"
      ],
      "execution_count": 259,
      "outputs": [
        {
          "output_type": "stream",
          "text": [
            "Retorno esperado: -0.041±0.954\n"
          ],
          "name": "stdout"
        }
      ]
    },
    {
      "cell_type": "code",
      "metadata": {
        "id": "JASkuFq2BOIq"
      },
      "source": [
        "import pickle\n",
        "pickle.dump(funcion_q, open('q.pt', 'wb'))\n",
        "pickle.dump(n_visitas, open('n.pt', 'wb'))"
      ],
      "execution_count": 33,
      "outputs": []
    },
    {
      "cell_type": "code",
      "metadata": {
        "colab": {
          "base_uri": "https://localhost:8080/",
          "height": 283
        },
        "id": "6MWgMc8eK5x1",
        "outputId": "319a5272-f671-4e06-9734-9b90d6b81f54"
      },
      "source": [
        "plt.plot(np.array(G_promedios))"
      ],
      "execution_count": 28,
      "outputs": [
        {
          "output_type": "execute_result",
          "data": {
            "text/plain": [
              "[<matplotlib.lines.Line2D at 0x7f0e41179eb8>]"
            ]
          },
          "metadata": {
            "tags": []
          },
          "execution_count": 28
        },
        {
          "output_type": "display_data",
          "data": {
            "image/png": "[encoded data removed]",
            "text/plain": [
              "<Figure size 432x288 with 1 Axes>"
            ]
          },
          "metadata": {
            "tags": [],
            "needs_background": "light"
          }
        }
      ]
    },
    {
      "cell_type": "code",
      "metadata": {
        "id": "LCUqv6jEyIpo"
      },
      "source": [
        "politica_optima = funcion_q.argmax(3)\n",
        "politica_optima_df_dic = {}\n",
        "for i in range(0,2):\n",
        "  politica_optima_df_dic[str(i)] = pd.DataFrame(data=politica_optima[:,:,i], \n",
        "                                       index=range(12,22), \n",
        "                                       columns=['A']+[str(x) for x in range(2,11)])"
      ],
      "execution_count": 29,
      "outputs": []
    },
    {
      "cell_type": "code",
      "metadata": {
        "colab": {
          "base_uri": "https://localhost:8080/",
          "height": 378
        },
        "id": "3rcuBAAgLkOJ",
        "outputId": "552255f9-4ac9-4418-faf1-a7d9902fcf5f"
      },
      "source": [
        "fig, ax = plt.subplots(1,2, figsize=(14,6))\n",
        "for i in range(0,2):\n",
        "  sns_ax = sns.heatmap(politica_optima_df_dic[str(i)], ax=ax[i], cmap=sns.color_palette(\"hls\", 2))\n",
        "  sns_ax.invert_yaxis()\n",
        "plt.show()\n",
        "plt.close()"
      ],
      "execution_count": 30,
      "outputs": [
        {
          "output_type": "display_data",
          "data": {
            "image/png": "[encoded data removed]",
            "text/plain": [
              "<Figure size 1008x432 with 4 Axes>"
            ]
          },
          "metadata": {
            "tags": [],
            "needs_background": "light"
          }
        }
      ]
    },
    {
      "cell_type": "code",
      "metadata": {
        "colab": {
          "base_uri": "https://localhost:8080/",
          "height": 428
        },
        "id": "xzz3noNsFYOE",
        "outputId": "78bd86fc-92be-47c5-af86-b54dcc498bfb"
      },
      "source": [
        "fig, ax = plt.subplots(2,2, figsize=(8,7))\n",
        "for i in range(0,2):\n",
        "  for j in range(0,2):\n",
        "    sns_ax = sns.heatmap(np.log(n_visitas[:,:,i,j]), ax=ax[i,j])\n",
        "    sns_ax.invert_yaxis()\n",
        "plt.show()\n",
        "plt.close()"
      ],
      "execution_count": 31,
      "outputs": [
        {
          "output_type": "display_data",
          "data": {
            "image/png": "[encoded data removed]",
            "text/plain": [
              "<Figure size 576x504 with 8 Axes>"
            ]
          },
          "metadata": {
            "tags": [],
            "needs_background": "light"
          }
        }
      ]
    },
    {
      "cell_type": "code",
      "metadata": {
        "colab": {
          "base_uri": "https://localhost:8080/",
          "height": 269
        },
        "id": "n-AyNeBfE7HA",
        "outputId": "29f15201-c120-4165-8166-307a31ffecbc"
      },
      "source": [
        "fig, ax = plt.subplots(1,2, figsize=(10,4))\n",
        "for i in range(0,2):\n",
        "  sns_ax = sns.heatmap(factores_exploracion[:,:,i], ax=ax[i])\n",
        "  sns_ax.invert_yaxis()\n",
        "plt.show()\n",
        "plt.close()"
      ],
      "execution_count": 32,
      "outputs": [
        {
          "output_type": "display_data",
          "data": {
            "image/png": "[encoded data removed]",
            "text/plain": [
              "<Figure size 720x288 with 4 Axes>"
            ]
          },
          "metadata": {
            "tags": [],
            "needs_background": "light"
          }
        }
      ]
    },
    {
      "cell_type": "code",
      "metadata": {
        "id": "RgfiFK3tLeQn"
      },
      "source": [
        ""
      ],
      "execution_count": null,
      "outputs": []
    }
  ]
}